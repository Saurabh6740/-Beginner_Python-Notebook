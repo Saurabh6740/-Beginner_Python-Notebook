{
 "cells": [
  {
   "cell_type": "markdown",
   "id": "508f760c",
   "metadata": {},
   "source": [
    "# Arthematic operation.\n",
    "Arthematic operation is based on python programmind language\n",
    "throuhg the given line...\n"
   ]
  },
  {
   "cell_type": "code",
   "execution_count": 1,
   "id": "7c5c52bd",
   "metadata": {},
   "outputs": [
    {
     "data": {
      "text/plain": [
       "26"
      ]
     },
     "execution_count": 1,
     "metadata": {},
     "output_type": "execute_result"
    }
   ],
   "source": [
    "99-73"
   ]
  },
  {
   "cell_type": "code",
   "execution_count": 4,
   "id": "7c5ee74a",
   "metadata": {},
   "outputs": [
    {
     "data": {
      "text/plain": [
       "14.285714285714286"
      ]
     },
     "execution_count": 4,
     "metadata": {},
     "output_type": "execute_result"
    }
   ],
   "source": [
    "100/7"
   ]
  },
  {
   "cell_type": "code",
   "execution_count": 5,
   "id": "8eea9a94",
   "metadata": {},
   "outputs": [
    {
     "data": {
      "text/plain": [
       "14"
      ]
     },
     "execution_count": 5,
     "metadata": {},
     "output_type": "execute_result"
    }
   ],
   "source": [
    "100//7"
   ]
  },
  {
   "cell_type": "code",
   "execution_count": 6,
   "id": "000c5b8b",
   "metadata": {},
   "outputs": [
    {
     "data": {
      "text/plain": [
       "-33709.28"
      ]
     },
     "execution_count": 6,
     "metadata": {},
     "output_type": "execute_result"
    }
   ],
   "source": [
    "23.54*-1432"
   ]
  },
  {
   "cell_type": "code",
   "execution_count": 7,
   "id": "6e7279dc",
   "metadata": {},
   "outputs": [
    {
     "data": {
      "text/plain": [
       "170"
      ]
     },
     "execution_count": 7,
     "metadata": {},
     "output_type": "execute_result"
    }
   ],
   "source": [
    "34*5"
   ]
  },
  {
   "cell_type": "code",
   "execution_count": 8,
   "id": "e1fc7c4b",
   "metadata": {},
   "outputs": [
    {
     "data": {
      "text/plain": [
       "125"
      ]
     },
     "execution_count": 8,
     "metadata": {},
     "output_type": "execute_result"
    }
   ],
   "source": [
    "5**3"
   ]
  },
  {
   "cell_type": "code",
   "execution_count": 9,
   "id": "6bab4e25",
   "metadata": {},
   "outputs": [
    {
     "data": {
      "text/plain": [
       "1"
      ]
     },
     "execution_count": 9,
     "metadata": {},
     "output_type": "execute_result"
    }
   ],
   "source": [
    "100%3"
   ]
  },
  {
   "cell_type": "code",
   "execution_count": 15,
   "id": "adf66185",
   "metadata": {},
   "outputs": [
    {
     "data": {
      "text/plain": [
       "10000"
      ]
     },
     "execution_count": 15,
     "metadata": {},
     "output_type": "execute_result"
    }
   ],
   "source": [
    "500*(2*10)"
   ]
  },
  {
   "cell_type": "code",
   "execution_count": 20,
   "id": "c67f67a2",
   "metadata": {},
   "outputs": [],
   "source": [
    "cost_of_ice_bag = 1.25"
   ]
  },
  {
   "cell_type": "code",
   "execution_count": 21,
   "id": "64847724",
   "metadata": {},
   "outputs": [],
   "source": [
    "profit_margin = .2"
   ]
  },
  {
   "cell_type": "code",
   "execution_count": 22,
   "id": "95cc1ef7",
   "metadata": {},
   "outputs": [],
   "source": [
    "number_of_bags = 500"
   ]
  },
  {
   "cell_type": "code",
   "execution_count": 23,
   "id": "5b98218a",
   "metadata": {},
   "outputs": [
    {
     "data": {
      "text/plain": [
       "1.25"
      ]
     },
     "execution_count": 23,
     "metadata": {},
     "output_type": "execute_result"
    }
   ],
   "source": [
    "cost_of_ice_bag"
   ]
  },
  {
   "cell_type": "code",
   "execution_count": 25,
   "id": "8adba08c",
   "metadata": {},
   "outputs": [
    {
     "data": {
      "text/plain": [
       "0.2"
      ]
     },
     "execution_count": 25,
     "metadata": {},
     "output_type": "execute_result"
    }
   ],
   "source": [
    "profit_margin"
   ]
  },
  {
   "cell_type": "code",
   "execution_count": 29,
   "id": "4063d37e",
   "metadata": {},
   "outputs": [
    {
     "data": {
      "text/plain": [
       "500"
      ]
     },
     "execution_count": 29,
     "metadata": {},
     "output_type": "execute_result"
    }
   ],
   "source": [
    "number_of_bags"
   ]
  },
  {
   "cell_type": "code",
   "execution_count": 35,
   "id": "b4dab148",
   "metadata": {},
   "outputs": [],
   "source": [
    "profit_per_bags = cost_of_ice_bag * profit_margin "
   ]
  },
  {
   "cell_type": "code",
   "execution_count": 36,
   "id": "18dd3535",
   "metadata": {},
   "outputs": [
    {
     "data": {
      "text/plain": [
       "0.25"
      ]
     },
     "execution_count": 36,
     "metadata": {},
     "output_type": "execute_result"
    }
   ],
   "source": [
    "profit_per_bags"
   ]
  },
  {
   "cell_type": "code",
   "execution_count": 37,
   "id": "14018ade",
   "metadata": {},
   "outputs": [],
   "source": [
    "total_profit = number_of_bags * profit_per_bags"
   ]
  },
  {
   "cell_type": "code",
   "execution_count": null,
   "id": "f580e0e7",
   "metadata": {},
   "outputs": [],
   "source": []
  },
  {
   "cell_type": "code",
   "execution_count": null,
   "id": "58e73b12",
   "metadata": {},
   "outputs": [],
   "source": []
  },
  {
   "cell_type": "code",
   "execution_count": 38,
   "id": "89193fb8",
   "metadata": {},
   "outputs": [
    {
     "data": {
      "text/plain": [
       "125.0"
      ]
     },
     "execution_count": 38,
     "metadata": {},
     "output_type": "execute_result"
    }
   ],
   "source": [
    "total_profit"
   ]
  },
  {
   "cell_type": "code",
   "execution_count": 39,
   "id": "b0df957e",
   "metadata": {},
   "outputs": [],
   "source": [
    "net_profit = 2"
   ]
  },
  {
   "cell_type": "code",
   "execution_count": 40,
   "id": "958a739f",
   "metadata": {},
   "outputs": [
    {
     "name": "stdout",
     "output_type": "stream",
     "text": [
      "The grocery store makes a total profit of $ 125.0\n"
     ]
    }
   ],
   "source": [
    "print(\"The grocery store makes a total profit of $\",total_profit)"
   ]
  },
  {
   "cell_type": "markdown",
   "id": "a83d7605",
   "metadata": {},
   "source": [
    "#Store input data in variables\n",
    "cost_of_ice_bag = 1.25\n",
    "profit_margin = .2\n",
    "number_of_bags = 500\n",
    "\n",
    "#This comment gets its own line\n",
    "#Perform the required calculations\n",
    "\n",
    "profit_per_bags = cost_of_ice_bag * profit_margin \n",
    "total_profit = number_of_bags * profit_per_bags\n",
    "\n",
    "#Display the result\n",
    "\n",
    "print(\"The grocery store makes a total profit of $\",total_profit)"
   ]
  },
  {
   "cell_type": "markdown",
   "id": "0fb2102a",
   "metadata": {},
   "source": [
    "# Condition checking Operator\n",
    "The condition check operator in the case statement of the operation like *true,false,and,or,and not*, this type of operation perform in the jupyter notebook."
   ]
  },
  {
   "cell_type": "code",
   "execution_count": null,
   "id": "02b2269a",
   "metadata": {},
   "outputs": [],
   "source": [
    "my_favorite_number = 0 # an inline comment"
   ]
  },
  {
   "cell_type": "code",
   "execution_count": null,
   "id": "dd0b0d42",
   "metadata": {},
   "outputs": [],
   "source": [
    "\"\"\"This is comment line in this pasge for multiple line \n",
    "as per demand  in the python programming language .\"\"\""
   ]
  },
  {
   "cell_type": "code",
   "execution_count": 43,
   "id": "234622f5",
   "metadata": {},
   "outputs": [
    {
     "data": {
      "text/plain": [
       "True"
      ]
     },
     "execution_count": 43,
     "metadata": {},
     "output_type": "execute_result"
    }
   ],
   "source": [
    "3==5-2"
   ]
  },
  {
   "cell_type": "code",
   "execution_count": 44,
   "id": "1534001a",
   "metadata": {},
   "outputs": [],
   "source": [
    "my_favorite_number = 0\n",
    "my_least_favorite_number = 9\n",
    "a_neutral_number = 3"
   ]
  },
  {
   "cell_type": "code",
   "execution_count": 45,
   "id": "0591fbf9",
   "metadata": {},
   "outputs": [
    {
     "data": {
      "text/plain": [
       "True"
      ]
     },
     "execution_count": 45,
     "metadata": {},
     "output_type": "execute_result"
    }
   ],
   "source": [
    "#Equality check - true or false\n",
    "my_favorite_number == 0"
   ]
  },
  {
   "cell_type": "code",
   "execution_count": 49,
   "id": "25399aea",
   "metadata": {},
   "outputs": [
    {
     "data": {
      "text/plain": [
       "False"
      ]
     },
     "execution_count": 49,
     "metadata": {},
     "output_type": "execute_result"
    }
   ],
   "source": [
    "#Equality check - true or false\n",
    "my_least_favorite_number != a_neutral_number"
   ]
  },
  {
   "cell_type": "code",
   "execution_count": 50,
   "id": "3f34ff74",
   "metadata": {},
   "outputs": [
    {
     "data": {
      "text/plain": [
       "False"
      ]
     },
     "execution_count": 50,
     "metadata": {},
     "output_type": "execute_result"
    }
   ],
   "source": [
    "#not equal check false\n",
    "a_neutral_number != 3"
   ]
  },
  {
   "cell_type": "code",
   "execution_count": 51,
   "id": "428b7c5f",
   "metadata": {},
   "outputs": [
    {
     "data": {
      "text/plain": [
       "False"
      ]
     },
     "execution_count": 51,
     "metadata": {},
     "output_type": "execute_result"
    }
   ],
   "source": [
    "#Grater then check - true or false\n",
    "my_least_favorite_number < a_neutral_number"
   ]
  },
  {
   "cell_type": "code",
   "execution_count": 52,
   "id": "93e47017",
   "metadata": {},
   "outputs": [
    {
     "data": {
      "text/plain": [
       "True"
      ]
     },
     "execution_count": 52,
     "metadata": {},
     "output_type": "execute_result"
    }
   ],
   "source": [
    "my_least_favorite_number>=1"
   ]
  },
  {
   "cell_type": "code",
   "execution_count": 53,
   "id": "9d6779dd",
   "metadata": {},
   "outputs": [
    {
     "data": {
      "text/plain": [
       "True"
      ]
     },
     "execution_count": 53,
     "metadata": {},
     "output_type": "execute_result"
    }
   ],
   "source": [
    "#Less then check - true or false\n",
    "my_least_favorite_number >= a_neutral_number"
   ]
  },
  {
   "cell_type": "code",
   "execution_count": 54,
   "id": "9663b81f",
   "metadata": {},
   "outputs": [
    {
     "data": {
      "text/plain": [
       "False"
      ]
     },
     "execution_count": 54,
     "metadata": {},
     "output_type": "execute_result"
    }
   ],
   "source": [
    "#Equality check - true or false\n",
    "my_least_favorite_number + a_neutral_number<=3"
   ]
  },
  {
   "cell_type": "code",
   "execution_count": 55,
   "id": "7d143227",
   "metadata": {},
   "outputs": [
    {
     "name": "stdout",
     "output_type": "stream",
     "text": [
      "Is the ice bag expensive ? False\n"
     ]
    }
   ],
   "source": [
    "cost_of_ice_bag = 1.25\n",
    "is_ice_bag_expansive = cost_of_ice_bag>=10\n",
    "print(\"Is the ice bag expensive ?\",is_ice_bag_expansive)"
   ]
  },
  {
   "cell_type": "code",
   "execution_count": 56,
   "id": "a8b97c7e",
   "metadata": {},
   "outputs": [
    {
     "data": {
      "text/plain": [
       "0"
      ]
     },
     "execution_count": 56,
     "metadata": {},
     "output_type": "execute_result"
    }
   ],
   "source": [
    "my_favorite_number "
   ]
  },
  {
   "cell_type": "code",
   "execution_count": 71,
   "id": "4019e47b",
   "metadata": {},
   "outputs": [
    {
     "data": {
      "text/plain": [
       "False"
      ]
     },
     "execution_count": 71,
     "metadata": {},
     "output_type": "execute_result"
    }
   ],
   "source": [
    "my_favorite_number >1"
   ]
  },
  {
   "cell_type": "code",
   "execution_count": 73,
   "id": "258e9307",
   "metadata": {},
   "outputs": [
    {
     "data": {
      "text/plain": [
       "False"
      ]
     },
     "execution_count": 73,
     "metadata": {},
     "output_type": "execute_result"
    }
   ],
   "source": [
    "hmy_favorite_number >3"
   ]
  },
  {
   "cell_type": "code",
   "execution_count": 70,
   "id": "3959b1a6",
   "metadata": {},
   "outputs": [
    {
     "data": {
      "text/plain": [
       "True"
      ]
     },
     "execution_count": 70,
     "metadata": {},
     "output_type": "execute_result"
    }
   ],
   "source": [
    "my_favorite_number >-1 and my_favorite_number <=5"
   ]
  },
  {
   "cell_type": "code",
   "execution_count": 72,
   "id": "47f80d58",
   "metadata": {},
   "outputs": [
    {
     "data": {
      "text/plain": [
       "False"
      ]
     },
     "execution_count": 72,
     "metadata": {},
     "output_type": "execute_result"
    }
   ],
   "source": [
    "my_favorite_number >1 and my_favorite_number <=5"
   ]
  },
  {
   "cell_type": "code",
   "execution_count": 75,
   "id": "44dcda49",
   "metadata": {},
   "outputs": [
    {
     "data": {
      "text/plain": [
       "True"
      ]
     },
     "execution_count": 75,
     "metadata": {},
     "output_type": "execute_result"
    }
   ],
   "source": [
    "my_favorite_number >1 or my_favorite_number <=3"
   ]
  },
  {
   "cell_type": "code",
   "execution_count": 76,
   "id": "4287c744",
   "metadata": {},
   "outputs": [
    {
     "data": {
      "text/plain": [
       "False"
      ]
     },
     "execution_count": 76,
     "metadata": {},
     "output_type": "execute_result"
    }
   ],
   "source": [
    "not a_neutral_number == 3"
   ]
  },
  {
   "cell_type": "code",
   "execution_count": 78,
   "id": "29d7a21e",
   "metadata": {},
   "outputs": [
    {
     "data": {
      "text/plain": [
       "True"
      ]
     },
     "execution_count": 78,
     "metadata": {},
     "output_type": "execute_result"
    }
   ],
   "source": [
    " not my_favorite_number < 0"
   ]
  },
  {
   "cell_type": "code",
   "execution_count": 84,
   "id": "145f28b4",
   "metadata": {},
   "outputs": [
    {
     "data": {
      "text/plain": [
       "True"
      ]
     },
     "execution_count": 84,
     "metadata": {},
     "output_type": "execute_result"
    }
   ],
   "source": [
    " not (2>3 and 4<=5)"
   ]
  },
  {
   "cell_type": "markdown",
   "id": "71cffac5",
   "metadata": {},
   "source": [
    "##  Adding text styles using Markdown\n",
    "Data Analysis with Python: Zero to Pandas\", a self-based course offered by Jovian and is a practical, beginner-friendly, and coding-focused introduction to data analysis covering the basics of Python, Numpy, Pandas, data visualization and exploratory data analysis for beginners. \n",
    "This course features a python tutorial in Hindi with a primary focus on the concept \"python for data science\". All projects and assignments as part of this course can be executed on interactive Jupyter notebooks running on the cloud.\n",
    "# Heading1 \n",
    "## Heading2\n",
    "### Heading3\n",
    "#### Heading4\n",
    "A bulleted list:\n",
    "* itam 1\n",
    "* itam 2\n",
    "* itam 3\n",
    "A number list:\n",
    "1. Apple\n",
    "2. banana\n",
    "3. grapes\n",
    "\n",
    "you can make some text bold using '**' **you can make some text bold using**, *italic text*\n",
    "[this is a link].(https://www.youtube.com/watch?v=jESyKxRZD3A).\n",
    "![].(https://i.imgur.com/7ndex.png)\n",
    "\n"
   ]
  },
  {
   "cell_type": "code",
   "execution_count": 85,
   "id": "3115c9a3",
   "metadata": {},
   "outputs": [],
   "source": [
    "my_favrite_color = \"blue\""
   ]
  },
  {
   "cell_type": "code",
   "execution_count": 86,
   "id": "8d40f92a",
   "metadata": {},
   "outputs": [
    {
     "data": {
      "text/plain": [
       "'blue'"
      ]
     },
     "execution_count": 86,
     "metadata": {},
     "output_type": "execute_result"
    }
   ],
   "source": [
    "my_favrite_color"
   ]
  },
  {
   "cell_type": "code",
   "execution_count": 87,
   "id": "53fdb51f",
   "metadata": {},
   "outputs": [],
   "source": [
    "color1,color2,color3 = \"red\",\"blue\",\"green\""
   ]
  },
  {
   "cell_type": "code",
   "execution_count": 88,
   "id": "8944a9ea",
   "metadata": {},
   "outputs": [
    {
     "data": {
      "text/plain": [
       "'red'"
      ]
     },
     "execution_count": 88,
     "metadata": {},
     "output_type": "execute_result"
    }
   ],
   "source": [
    "color1"
   ]
  },
  {
   "cell_type": "code",
   "execution_count": 89,
   "id": "9c4f2a1f",
   "metadata": {},
   "outputs": [
    {
     "data": {
      "text/plain": [
       "'blue'"
      ]
     },
     "execution_count": 89,
     "metadata": {},
     "output_type": "execute_result"
    }
   ],
   "source": [
    "color2"
   ]
  },
  {
   "cell_type": "code",
   "execution_count": 90,
   "id": "f4dc34d0",
   "metadata": {},
   "outputs": [
    {
     "data": {
      "text/plain": [
       "'green'"
      ]
     },
     "execution_count": 90,
     "metadata": {},
     "output_type": "execute_result"
    }
   ],
   "source": [
    "color3"
   ]
  },
  {
   "cell_type": "code",
   "execution_count": 91,
   "id": "9995f586",
   "metadata": {},
   "outputs": [],
   "source": [
    "color4=color5=color6=\"magenta\""
   ]
  },
  {
   "cell_type": "code",
   "execution_count": 92,
   "id": "114668b0",
   "metadata": {},
   "outputs": [
    {
     "data": {
      "text/plain": [
       "'magenta'"
      ]
     },
     "execution_count": 92,
     "metadata": {},
     "output_type": "execute_result"
    }
   ],
   "source": [
    "color4"
   ]
  },
  {
   "cell_type": "code",
   "execution_count": 93,
   "id": "4f5e97b6",
   "metadata": {},
   "outputs": [
    {
     "data": {
      "text/plain": [
       "'magenta'"
      ]
     },
     "execution_count": 93,
     "metadata": {},
     "output_type": "execute_result"
    }
   ],
   "source": [
    "color5"
   ]
  },
  {
   "cell_type": "code",
   "execution_count": 94,
   "id": "298cced7",
   "metadata": {},
   "outputs": [
    {
     "data": {
      "text/plain": [
       "'magenta'"
      ]
     },
     "execution_count": 94,
     "metadata": {},
     "output_type": "execute_result"
    }
   ],
   "source": [
    "color6"
   ]
  },
  {
   "cell_type": "code",
   "execution_count": 97,
   "id": "9e3c0fa1",
   "metadata": {},
   "outputs": [],
   "source": [
    "is_today_wednesday= \"true\""
   ]
  },
  {
   "cell_type": "code",
   "execution_count": 100,
   "id": "b083d5a9",
   "metadata": {},
   "outputs": [],
   "source": [
    "a_variable =11\n",
    "is_today_wednesday = \"true\"\n",
    "my_favorite_car = \"oddi\"\n",
    "the_3_musketeers =[\"athos\",\"porithos\",\"Armis\"]"
   ]
  },
  {
   "cell_type": "code",
   "execution_count": 101,
   "id": "64c728b1",
   "metadata": {},
   "outputs": [
    {
     "data": {
      "text/plain": [
       "'oddi'"
      ]
     },
     "execution_count": 101,
     "metadata": {},
     "output_type": "execute_result"
    }
   ],
   "source": [
    "my_favorite_car"
   ]
  },
  {
   "cell_type": "code",
   "execution_count": 102,
   "id": "292ab912",
   "metadata": {},
   "outputs": [
    {
     "data": {
      "text/plain": [
       "['athos', 'porithos', 'Armis']"
      ]
     },
     "execution_count": 102,
     "metadata": {},
     "output_type": "execute_result"
    }
   ],
   "source": [
    "the_3_musketeers"
   ]
  },
  {
   "cell_type": "code",
   "execution_count": 103,
   "id": "c17ee0aa",
   "metadata": {},
   "outputs": [
    {
     "data": {
      "text/plain": [
       "'true'"
      ]
     },
     "execution_count": 103,
     "metadata": {},
     "output_type": "execute_result"
    }
   ],
   "source": [
    "is_today_wednesday"
   ]
  },
  {
   "cell_type": "code",
   "execution_count": 104,
   "id": "9c0fb06f",
   "metadata": {},
   "outputs": [
    {
     "data": {
      "text/plain": [
       "11"
      ]
     },
     "execution_count": 104,
     "metadata": {},
     "output_type": "execute_result"
    }
   ],
   "source": [
    "a_variable"
   ]
  },
  {
   "cell_type": "markdown",
   "id": "39706748",
   "metadata": {},
   "source": [
    "# Built-in data type in python \n",
    "Any data or information stored within a python variable has a type a variable can be checking using the **type** function "
   ]
  },
  {
   "cell_type": "code",
   "execution_count": 106,
   "id": "6d228816",
   "metadata": {},
   "outputs": [
    {
     "data": {
      "text/plain": [
       "11"
      ]
     },
     "execution_count": 106,
     "metadata": {},
     "output_type": "execute_result"
    }
   ],
   "source": [
    "a_variable"
   ]
  },
  {
   "cell_type": "code",
   "execution_count": 107,
   "id": "15e5f358",
   "metadata": {},
   "outputs": [
    {
     "data": {
      "text/plain": [
       "int"
      ]
     },
     "execution_count": 107,
     "metadata": {},
     "output_type": "execute_result"
    }
   ],
   "source": [
    "type (a_variable)"
   ]
  },
  {
   "cell_type": "code",
   "execution_count": 108,
   "id": "604e7842",
   "metadata": {},
   "outputs": [
    {
     "data": {
      "text/plain": [
       "'true'"
      ]
     },
     "execution_count": 108,
     "metadata": {},
     "output_type": "execute_result"
    }
   ],
   "source": [
    "is_today_wednesday"
   ]
  },
  {
   "cell_type": "code",
   "execution_count": 109,
   "id": "0013def6",
   "metadata": {},
   "outputs": [
    {
     "data": {
      "text/plain": [
       "str"
      ]
     },
     "execution_count": 109,
     "metadata": {},
     "output_type": "execute_result"
    }
   ],
   "source": [
    "type(is_today_wednesday)"
   ]
  },
  {
   "cell_type": "code",
   "execution_count": 110,
   "id": "e673b840",
   "metadata": {},
   "outputs": [
    {
     "data": {
      "text/plain": [
       "'oddi'"
      ]
     },
     "execution_count": 110,
     "metadata": {},
     "output_type": "execute_result"
    }
   ],
   "source": [
    "my_favorite_car"
   ]
  },
  {
   "cell_type": "code",
   "execution_count": 111,
   "id": "ec445894",
   "metadata": {},
   "outputs": [
    {
     "data": {
      "text/plain": [
       "str"
      ]
     },
     "execution_count": 111,
     "metadata": {},
     "output_type": "execute_result"
    }
   ],
   "source": [
    "type(my_favorite_car)"
   ]
  },
  {
   "cell_type": "code",
   "execution_count": 112,
   "id": "0fa277a7",
   "metadata": {},
   "outputs": [
    {
     "data": {
      "text/plain": [
       "['athos', 'porithos', 'Armis']"
      ]
     },
     "execution_count": 112,
     "metadata": {},
     "output_type": "execute_result"
    }
   ],
   "source": [
    "the_3_musketeers"
   ]
  },
  {
   "cell_type": "code",
   "execution_count": 113,
   "id": "643a954a",
   "metadata": {},
   "outputs": [
    {
     "data": {
      "text/plain": [
       "list"
      ]
     },
     "execution_count": 113,
     "metadata": {},
     "output_type": "execute_result"
    }
   ],
   "source": [
    "type(the_3_musketeers)"
   ]
  },
  {
   "cell_type": "code",
   "execution_count": 116,
   "id": "95bdc8d1",
   "metadata": {},
   "outputs": [],
   "source": [
    "current_year = 2004"
   ]
  },
  {
   "cell_type": "code",
   "execution_count": 117,
   "id": "08ba4934",
   "metadata": {},
   "outputs": [
    {
     "data": {
      "text/plain": [
       "2004"
      ]
     },
     "execution_count": 117,
     "metadata": {},
     "output_type": "execute_result"
    }
   ],
   "source": [
    "current_year"
   ]
  },
  {
   "cell_type": "code",
   "execution_count": 118,
   "id": "df520db5",
   "metadata": {},
   "outputs": [
    {
     "data": {
      "text/plain": [
       "int"
      ]
     },
     "execution_count": 118,
     "metadata": {},
     "output_type": "execute_result"
    }
   ],
   "source": [
    "type(current_year)"
   ]
  },
  {
   "cell_type": "code",
   "execution_count": 119,
   "id": "0eb0ae1f",
   "metadata": {},
   "outputs": [],
   "source": [
    "a_large_negative_number=-2374045782345687934"
   ]
  },
  {
   "cell_type": "code",
   "execution_count": 120,
   "id": "47830196",
   "metadata": {},
   "outputs": [
    {
     "data": {
      "text/plain": [
       "-2374045782345687934"
      ]
     },
     "execution_count": 120,
     "metadata": {},
     "output_type": "execute_result"
    }
   ],
   "source": [
    "a_large_negative_number"
   ]
  },
  {
   "cell_type": "code",
   "execution_count": 121,
   "id": "e783a8bf",
   "metadata": {},
   "outputs": [
    {
     "data": {
      "text/plain": [
       "int"
      ]
     },
     "execution_count": 121,
     "metadata": {},
     "output_type": "execute_result"
    }
   ],
   "source": [
    "type(a_large_negative_number)"
   ]
  },
  {
   "cell_type": "code",
   "execution_count": 122,
   "id": "e7133eee",
   "metadata": {},
   "outputs": [],
   "source": [
    "pi=3.1459265353587934"
   ]
  },
  {
   "cell_type": "code",
   "execution_count": 123,
   "id": "67df5705",
   "metadata": {},
   "outputs": [
    {
     "data": {
      "text/plain": [
       "3.1459265353587935"
      ]
     },
     "execution_count": 123,
     "metadata": {},
     "output_type": "execute_result"
    }
   ],
   "source": [
    "pi"
   ]
  },
  {
   "cell_type": "code",
   "execution_count": 124,
   "id": "4b046fcf",
   "metadata": {},
   "outputs": [
    {
     "data": {
      "text/plain": [
       "float"
      ]
     },
     "execution_count": 124,
     "metadata": {},
     "output_type": "execute_result"
    }
   ],
   "source": [
    "type(pi)"
   ]
  },
  {
   "cell_type": "code",
   "execution_count": 125,
   "id": "faf1655c",
   "metadata": {},
   "outputs": [],
   "source": [
    "a_number=3.0"
   ]
  },
  {
   "cell_type": "code",
   "execution_count": 126,
   "id": "ea5df21f",
   "metadata": {},
   "outputs": [
    {
     "data": {
      "text/plain": [
       "3.0"
      ]
     },
     "execution_count": 126,
     "metadata": {},
     "output_type": "execute_result"
    }
   ],
   "source": [
    "a_number"
   ]
  },
  {
   "cell_type": "code",
   "execution_count": 127,
   "id": "e544cd84",
   "metadata": {},
   "outputs": [
    {
     "data": {
      "text/plain": [
       "float"
      ]
     },
     "execution_count": 127,
     "metadata": {},
     "output_type": "execute_result"
    }
   ],
   "source": [
    "type(a_number)"
   ]
  },
  {
   "cell_type": "code",
   "execution_count": 148,
   "id": "f1b5d2c8",
   "metadata": {},
   "outputs": [],
   "source": [
    "one_hundredth = 100"
   ]
  },
  {
   "cell_type": "code",
   "execution_count": 151,
   "id": "baa8a2de",
   "metadata": {},
   "outputs": [
    {
     "data": {
      "text/plain": [
       "100"
      ]
     },
     "execution_count": 151,
     "metadata": {},
     "output_type": "execute_result"
    }
   ],
   "source": [
    "one_hundredth"
   ]
  },
  {
   "cell_type": "code",
   "execution_count": 152,
   "id": "452641a6",
   "metadata": {},
   "outputs": [],
   "source": [
    "avogadro_number = 6.02214e23"
   ]
  },
  {
   "cell_type": "code",
   "execution_count": 133,
   "id": "62a99797",
   "metadata": {},
   "outputs": [
    {
     "data": {
      "text/plain": [
       "6.02214e+23"
      ]
     },
     "execution_count": 133,
     "metadata": {},
     "output_type": "execute_result"
    }
   ],
   "source": [
    "avogadro_number"
   ]
  },
  {
   "cell_type": "code",
   "execution_count": 134,
   "id": "f499e79a",
   "metadata": {},
   "outputs": [
    {
     "data": {
      "text/plain": [
       "float"
      ]
     },
     "execution_count": 134,
     "metadata": {},
     "output_type": "execute_result"
    }
   ],
   "source": [
    "type(avogadro_number)"
   ]
  },
  {
   "cell_type": "code",
   "execution_count": 135,
   "id": "be61cd60",
   "metadata": {},
   "outputs": [
    {
     "data": {
      "text/plain": [
       "2004.0"
      ]
     },
     "execution_count": 135,
     "metadata": {},
     "output_type": "execute_result"
    }
   ],
   "source": [
    "float(current_year)"
   ]
  },
  {
   "cell_type": "code",
   "execution_count": 136,
   "id": "baa9041a",
   "metadata": {},
   "outputs": [
    {
     "data": {
      "text/plain": [
       "-2.374045782345688e+18"
      ]
     },
     "execution_count": 136,
     "metadata": {},
     "output_type": "execute_result"
    }
   ],
   "source": [
    "float(a_large_negative_number)"
   ]
  },
  {
   "cell_type": "code",
   "execution_count": 137,
   "id": "558cf6c5",
   "metadata": {},
   "outputs": [
    {
     "data": {
      "text/plain": [
       "3"
      ]
     },
     "execution_count": 137,
     "metadata": {},
     "output_type": "execute_result"
    }
   ],
   "source": [
    "int(pi)"
   ]
  },
  {
   "cell_type": "code",
   "execution_count": 138,
   "id": "b90776be",
   "metadata": {},
   "outputs": [
    {
     "data": {
      "text/plain": [
       "602213999999999969067008"
      ]
     },
     "execution_count": 138,
     "metadata": {},
     "output_type": "execute_result"
    }
   ],
   "source": [
    "int(avogadro_number)"
   ]
  },
  {
   "cell_type": "code",
   "execution_count": 139,
   "id": "73f21b6a",
   "metadata": {},
   "outputs": [
    {
     "data": {
      "text/plain": [
       "float"
      ]
     },
     "execution_count": 139,
     "metadata": {},
     "output_type": "execute_result"
    }
   ],
   "source": [
    "type(45*3.0)"
   ]
  },
  {
   "cell_type": "code",
   "execution_count": 140,
   "id": "8827791c",
   "metadata": {},
   "outputs": [
    {
     "data": {
      "text/plain": [
       "int"
      ]
     },
     "execution_count": 140,
     "metadata": {},
     "output_type": "execute_result"
    }
   ],
   "source": [
    "type(45*3)"
   ]
  },
  {
   "cell_type": "code",
   "execution_count": 141,
   "id": "8df1702a",
   "metadata": {},
   "outputs": [
    {
     "data": {
      "text/plain": [
       "float"
      ]
     },
     "execution_count": 141,
     "metadata": {},
     "output_type": "execute_result"
    }
   ],
   "source": [
    "type(10/3)"
   ]
  },
  {
   "cell_type": "code",
   "execution_count": 142,
   "id": "55166524",
   "metadata": {},
   "outputs": [
    {
     "data": {
      "text/plain": [
       "float"
      ]
     },
     "execution_count": 142,
     "metadata": {},
     "output_type": "execute_result"
    }
   ],
   "source": [
    "type(10/2)"
   ]
  },
  {
   "cell_type": "code",
   "execution_count": 143,
   "id": "0daa92b8",
   "metadata": {},
   "outputs": [
    {
     "data": {
      "text/plain": [
       "int"
      ]
     },
     "execution_count": 143,
     "metadata": {},
     "output_type": "execute_result"
    }
   ],
   "source": [
    "type(10//2)"
   ]
  },
  {
   "cell_type": "code",
   "execution_count": 144,
   "id": "34c281c3",
   "metadata": {},
   "outputs": [],
   "source": [
    "is_today_wednesday = True"
   ]
  },
  {
   "cell_type": "code",
   "execution_count": 145,
   "id": "d2cb11fc",
   "metadata": {},
   "outputs": [
    {
     "data": {
      "text/plain": [
       "True"
      ]
     },
     "execution_count": 145,
     "metadata": {},
     "output_type": "execute_result"
    }
   ],
   "source": [
    "is_today_wednesday"
   ]
  },
  {
   "cell_type": "markdown",
   "id": "d44fde6c",
   "metadata": {},
   "source": [
    "# Boolian number\n",
    "Any set of value is initlized *true or false*"
   ]
  },
  {
   "cell_type": "code",
   "execution_count": 165,
   "id": "87b88562",
   "metadata": {},
   "outputs": [
    {
     "data": {
      "text/plain": [
       "bool"
      ]
     },
     "execution_count": 165,
     "metadata": {},
     "output_type": "execute_result"
    }
   ],
   "source": [
    "type(is_today_wednesday)"
   ]
  },
  {
   "cell_type": "code",
   "execution_count": 149,
   "id": "3a588032",
   "metadata": {},
   "outputs": [],
   "source": [
    "cost_of_ice_bag =1.25\n",
    "is_ice_bag_expensive = cost_of_ice_bag>=10"
   ]
  },
  {
   "cell_type": "code",
   "execution_count": 150,
   "id": "a5b5df60",
   "metadata": {},
   "outputs": [
    {
     "data": {
      "text/plain": [
       "False"
      ]
     },
     "execution_count": 150,
     "metadata": {},
     "output_type": "execute_result"
    }
   ],
   "source": [
    "is_ice_bag_expensive"
   ]
  },
  {
   "cell_type": "code",
   "execution_count": 153,
   "id": "34bca0b3",
   "metadata": {},
   "outputs": [
    {
     "data": {
      "text/plain": [
       "5"
      ]
     },
     "execution_count": 153,
     "metadata": {},
     "output_type": "execute_result"
    }
   ],
   "source": [
    "5+False"
   ]
  },
  {
   "cell_type": "code",
   "execution_count": 154,
   "id": "85fd9b41",
   "metadata": {},
   "outputs": [
    {
     "data": {
      "text/plain": [
       "4.0"
      ]
     },
     "execution_count": 154,
     "metadata": {},
     "output_type": "execute_result"
    }
   ],
   "source": [
    "3.+True "
   ]
  },
  {
   "cell_type": "code",
   "execution_count": 155,
   "id": "35e42b62",
   "metadata": {},
   "outputs": [
    {
     "data": {
      "text/plain": [
       "False"
      ]
     },
     "execution_count": 155,
     "metadata": {},
     "output_type": "execute_result"
    }
   ],
   "source": [
    "bool(False)"
   ]
  },
  {
   "cell_type": "code",
   "execution_count": 156,
   "id": "35289b70",
   "metadata": {},
   "outputs": [
    {
     "data": {
      "text/plain": [
       "False"
      ]
     },
     "execution_count": 156,
     "metadata": {},
     "output_type": "execute_result"
    }
   ],
   "source": [
    "bool(0)"
   ]
  },
  {
   "cell_type": "code",
   "execution_count": 157,
   "id": "3d8c37fc",
   "metadata": {},
   "outputs": [
    {
     "data": {
      "text/plain": [
       "False"
      ]
     },
     "execution_count": 157,
     "metadata": {},
     "output_type": "execute_result"
    }
   ],
   "source": [
    "bool(0.0)"
   ]
  },
  {
   "cell_type": "code",
   "execution_count": 158,
   "id": "9302537f",
   "metadata": {},
   "outputs": [
    {
     "data": {
      "text/plain": [
       "False"
      ]
     },
     "execution_count": 158,
     "metadata": {},
     "output_type": "execute_result"
    }
   ],
   "source": [
    "bool(None)"
   ]
  },
  {
   "cell_type": "code",
   "execution_count": 160,
   "id": "356910cf",
   "metadata": {},
   "outputs": [
    {
     "data": {
      "text/plain": [
       "False"
      ]
     },
     "execution_count": 160,
     "metadata": {},
     "output_type": "execute_result"
    }
   ],
   "source": [
    "bool(\"\")"
   ]
  },
  {
   "cell_type": "code",
   "execution_count": 161,
   "id": "451e1801",
   "metadata": {},
   "outputs": [
    {
     "data": {
      "text/plain": [
       "False"
      ]
     },
     "execution_count": 161,
     "metadata": {},
     "output_type": "execute_result"
    }
   ],
   "source": [
    "bool([])"
   ]
  },
  {
   "cell_type": "code",
   "execution_count": 162,
   "id": "1527fd73",
   "metadata": {},
   "outputs": [
    {
     "data": {
      "text/plain": [
       "False"
      ]
     },
     "execution_count": 162,
     "metadata": {},
     "output_type": "execute_result"
    }
   ],
   "source": [
    "bool(())"
   ]
  },
  {
   "cell_type": "code",
   "execution_count": 163,
   "id": "66edb958",
   "metadata": {},
   "outputs": [
    {
     "data": {
      "text/plain": [
       "False"
      ]
     },
     "execution_count": 163,
     "metadata": {},
     "output_type": "execute_result"
    }
   ],
   "source": [
    "bool({})"
   ]
  },
  {
   "cell_type": "code",
   "execution_count": 164,
   "id": "b16dff26",
   "metadata": {},
   "outputs": [
    {
     "data": {
      "text/plain": [
       "False"
      ]
     },
     "execution_count": 164,
     "metadata": {},
     "output_type": "execute_result"
    }
   ],
   "source": [
    "bool(set())"
   ]
  },
  {
   "cell_type": "code",
   "execution_count": 1,
   "id": "c5edcf46",
   "metadata": {},
   "outputs": [
    {
     "data": {
      "text/plain": [
       "False"
      ]
     },
     "execution_count": 1,
     "metadata": {},
     "output_type": "execute_result"
    }
   ],
   "source": [
    "bool (range(0))"
   ]
  },
  {
   "cell_type": "code",
   "execution_count": 167,
   "id": "f9897e36",
   "metadata": {},
   "outputs": [
    {
     "data": {
      "text/plain": [
       "(True, True, True, True, True, True, True)"
      ]
     },
     "execution_count": 167,
     "metadata": {},
     "output_type": "execute_result"
    }
   ],
   "source": [
    "bool(True),bool(1),bool(2.0),bool(\"hello\"),bool([1,2]),bool((2,4)),bool(range(10))"
   ]
  },
  {
   "cell_type": "markdown",
   "id": "47f2ce2b",
   "metadata": {},
   "source": [
    "# Nonr\n",
    " The None type include a single value None, used to indicate the absence the absence of the value."
   ]
  },
  {
   "cell_type": "code",
   "execution_count": 168,
   "id": "359d1f5f",
   "metadata": {},
   "outputs": [],
   "source": [
    "nothing = None"
   ]
  },
  {
   "cell_type": "code",
   "execution_count": 169,
   "id": "c77edcd6",
   "metadata": {},
   "outputs": [
    {
     "data": {
      "text/plain": [
       "NoneType"
      ]
     },
     "execution_count": 169,
     "metadata": {},
     "output_type": "execute_result"
    }
   ],
   "source": [
    "type(nothing)"
   ]
  },
  {
   "cell_type": "markdown",
   "id": "13a61ba4",
   "metadata": {},
   "source": [
    "# String\n",
    "A string is used to represent text (a string of charaters) in python. String must be surronded using quatations (either the single quote **'** or double quote  **\"**) "
   ]
  },
  {
   "cell_type": "code",
   "execution_count": 173,
   "id": "9104cb08",
   "metadata": {},
   "outputs": [],
   "source": [
    "today = \"wednesday\""
   ]
  },
  {
   "cell_type": "code",
   "execution_count": 174,
   "id": "ad1a6884",
   "metadata": {},
   "outputs": [
    {
     "data": {
      "text/plain": [
       "'wednesday'"
      ]
     },
     "execution_count": 174,
     "metadata": {},
     "output_type": "execute_result"
    }
   ],
   "source": [
    "today"
   ]
  },
  {
   "cell_type": "code",
   "execution_count": 175,
   "id": "dbc3fc80",
   "metadata": {},
   "outputs": [
    {
     "data": {
      "text/plain": [
       "str"
      ]
     },
     "execution_count": 175,
     "metadata": {},
     "output_type": "execute_result"
    }
   ],
   "source": [
    "type(today)"
   ]
  },
  {
   "cell_type": "code",
   "execution_count": 176,
   "id": "f38dfa01",
   "metadata": {},
   "outputs": [],
   "source": [
    "my_favorit_color = 'magenda color is the favorit coler in the master pice '"
   ]
  },
  {
   "cell_type": "code",
   "execution_count": 177,
   "id": "143ce426",
   "metadata": {},
   "outputs": [
    {
     "data": {
      "text/plain": [
       "'magenda color is the favorit coler in the master pice '"
      ]
     },
     "execution_count": 177,
     "metadata": {},
     "output_type": "execute_result"
    }
   ],
   "source": [
    "my_favorit_color"
   ]
  },
  {
   "cell_type": "raw",
   "id": "dd707e29",
   "metadata": {},
   "source": [
    "multiline_string = \"\"\"a b\"\"\"multiline_string\n"
   ]
  },
  {
   "cell_type": "code",
   "execution_count": 183,
   "id": "dbd47649",
   "metadata": {},
   "outputs": [],
   "source": [
    "today = \"wednesday\""
   ]
  },
  {
   "cell_type": "code",
   "execution_count": 188,
   "id": "ba1e2ac0",
   "metadata": {},
   "outputs": [
    {
     "data": {
      "text/plain": [
       "'w'"
      ]
     },
     "execution_count": 188,
     "metadata": {},
     "output_type": "execute_result"
    }
   ],
   "source": [
    "today[1]"
   ]
  },
  {
   "cell_type": "code",
   "execution_count": 185,
   "id": "d70ddc75",
   "metadata": {},
   "outputs": [
    {
     "data": {
      "text/plain": [
       "'d'"
      ]
     },
     "execution_count": 185,
     "metadata": {},
     "output_type": "execute_result"
    }
   ],
   "source": [
    "today[3]"
   ]
  },
  {
   "cell_type": "code",
   "execution_count": 198,
   "id": "af53eb52",
   "metadata": {},
   "outputs": [
    {
     "data": {
      "text/plain": [
       "'y'"
      ]
     },
     "execution_count": 198,
     "metadata": {},
     "output_type": "execute_result"
    }
   ],
   "source": [
    "today[9]"
   ]
  },
  {
   "cell_type": "code",
   "execution_count": 200,
   "id": "f316b5f8",
   "metadata": {},
   "outputs": [
    {
     "data": {
      "text/plain": [
       "'day'"
      ]
     },
     "execution_count": 200,
     "metadata": {},
     "output_type": "execute_result"
    }
   ],
   "source": [
    "today[7:10]"
   ]
  },
  {
   "cell_type": "code",
   "execution_count": 201,
   "id": "0b9bf858",
   "metadata": {},
   "outputs": [
    {
     "data": {
      "text/plain": [
       "False"
      ]
     },
     "execution_count": 201,
     "metadata": {},
     "output_type": "execute_result"
    }
   ],
   "source": [
    "'day ' in today"
   ]
  },
  {
   "cell_type": "code",
   "execution_count": 202,
   "id": "5f2ff549",
   "metadata": {},
   "outputs": [
    {
     "data": {
      "text/plain": [
       "False"
      ]
     },
     "execution_count": 202,
     "metadata": {},
     "output_type": "execute_result"
    }
   ],
   "source": [
    "'sun'in today"
   ]
  },
  {
   "cell_type": "code",
   "execution_count": 203,
   "id": "5031bb2c",
   "metadata": {},
   "outputs": [],
   "source": [
    "full_name = \"saurabh \""
   ]
  },
  {
   "cell_type": "code",
   "execution_count": 204,
   "id": "25e30cc4",
   "metadata": {},
   "outputs": [],
   "source": [
    "greeting = \"Hello\""
   ]
  },
  {
   "cell_type": "code",
   "execution_count": 205,
   "id": "313b7fea",
   "metadata": {},
   "outputs": [
    {
     "data": {
      "text/plain": [
       "'Hellosaurabh '"
      ]
     },
     "execution_count": 205,
     "metadata": {},
     "output_type": "execute_result"
    }
   ],
   "source": [
    "greeting + full_name"
   ]
  },
  {
   "cell_type": "code",
   "execution_count": 206,
   "id": "84e68d49",
   "metadata": {},
   "outputs": [
    {
     "data": {
      "text/plain": [
       "'Hello saurabh !'"
      ]
     },
     "execution_count": 206,
     "metadata": {},
     "output_type": "execute_result"
    }
   ],
   "source": [
    "greeting +\" \"+ full_name+\"!\"#additional space"
   ]
  },
  {
   "cell_type": "code",
   "execution_count": 207,
   "id": "7d4a991c",
   "metadata": {},
   "outputs": [
    {
     "data": {
      "text/plain": [
       "' wednesday'"
      ]
     },
     "execution_count": 207,
     "metadata": {},
     "output_type": "execute_result"
    }
   ],
   "source": [
    "today"
   ]
  },
  {
   "cell_type": "code",
   "execution_count": 208,
   "id": "b026d2bc",
   "metadata": {},
   "outputs": [
    {
     "data": {
      "text/plain": [
       "' wednesday'"
      ]
     },
     "execution_count": 208,
     "metadata": {},
     "output_type": "execute_result"
    }
   ],
   "source": [
    "today.lower()"
   ]
  },
  {
   "cell_type": "code",
   "execution_count": 209,
   "id": "6890c3a7",
   "metadata": {},
   "outputs": [
    {
     "data": {
      "text/plain": [
       "'WEDNESDAY'"
      ]
     },
     "execution_count": 209,
     "metadata": {},
     "output_type": "execute_result"
    }
   ],
   "source": [
    "\"wednesday\".upper()"
   ]
  },
  {
   "cell_type": "code",
   "execution_count": 211,
   "id": "bc025080",
   "metadata": {},
   "outputs": [
    {
     "data": {
      "text/plain": [
       "'Monday'"
      ]
     },
     "execution_count": 211,
     "metadata": {},
     "output_type": "execute_result"
    }
   ],
   "source": [
    "\"monday\".capitalize()#change first character to uppercase"
   ]
  },
  {
   "cell_type": "code",
   "execution_count": 214,
   "id": "bc05d8ab",
   "metadata": {},
   "outputs": [],
   "source": [
    "another_day = today.replace(\"wed\",\"satur\")"
   ]
  },
  {
   "cell_type": "code",
   "execution_count": 215,
   "id": "f509995c",
   "metadata": {},
   "outputs": [
    {
     "data": {
      "text/plain": [
       "' saturnesday'"
      ]
     },
     "execution_count": 215,
     "metadata": {},
     "output_type": "execute_result"
    }
   ],
   "source": [
    "another_day"
   ]
  },
  {
   "cell_type": "markdown",
   "id": "a1aba8a5",
   "metadata": {},
   "source": [
    "# List\n",
    "A list in python is an order collection of value . List can hold value of different data types, an suppot operation toadd, remove and change values"
   ]
  },
  {
   "cell_type": "code",
   "execution_count": 2,
   "id": "831497e9",
   "metadata": {},
   "outputs": [],
   "source": [
    "fruits = [\"apple \", \"banana\",\"cherry\"]"
   ]
  },
  {
   "cell_type": "code",
   "execution_count": 3,
   "id": "7b21ea9b",
   "metadata": {},
   "outputs": [
    {
     "data": {
      "text/plain": [
       "['apple ', 'banana', 'cherry']"
      ]
     },
     "execution_count": 3,
     "metadata": {},
     "output_type": "execute_result"
    }
   ],
   "source": [
    "fruits"
   ]
  },
  {
   "cell_type": "code",
   "execution_count": 4,
   "id": "16c1168d",
   "metadata": {},
   "outputs": [
    {
     "data": {
      "text/plain": [
       "list"
      ]
     },
     "execution_count": 4,
     "metadata": {},
     "output_type": "execute_result"
    }
   ],
   "source": [
    "type(fruits)"
   ]
  },
  {
   "cell_type": "code",
   "execution_count": 5,
   "id": "db0a50f2",
   "metadata": {},
   "outputs": [],
   "source": [
    "a_list = [123, \"hellow\", None,3.14,fruits,3 <=5]"
   ]
  },
  {
   "cell_type": "code",
   "execution_count": 6,
   "id": "90048dd6",
   "metadata": {},
   "outputs": [
    {
     "data": {
      "text/plain": [
       "[123, 'hellow', None, 3.14, ['apple ', 'banana', 'cherry'], True]"
      ]
     },
     "execution_count": 6,
     "metadata": {},
     "output_type": "execute_result"
    }
   ],
   "source": [
    "a_list"
   ]
  },
  {
   "cell_type": "code",
   "execution_count": 7,
   "id": "e002112d",
   "metadata": {},
   "outputs": [],
   "source": [
    "empty_list = []"
   ]
  },
  {
   "cell_type": "code",
   "execution_count": 8,
   "id": "4643cdca",
   "metadata": {},
   "outputs": [
    {
     "data": {
      "text/plain": [
       "[]"
      ]
     },
     "execution_count": 8,
     "metadata": {},
     "output_type": "execute_result"
    }
   ],
   "source": [
    "empty_list"
   ]
  },
  {
   "cell_type": "code",
   "execution_count": 9,
   "id": "61420826",
   "metadata": {},
   "outputs": [
    {
     "data": {
      "text/plain": [
       "3"
      ]
     },
     "execution_count": 9,
     "metadata": {},
     "output_type": "execute_result"
    }
   ],
   "source": [
    "len(fruits)"
   ]
  },
  {
   "cell_type": "code",
   "execution_count": 10,
   "id": "d1870ace",
   "metadata": {},
   "outputs": [
    {
     "name": "stdout",
     "output_type": "stream",
     "text": [
      "Number of fruits:  3\n"
     ]
    }
   ],
   "source": [
    "print(\"Number of fruits: \",len (fruits) )"
   ]
  },
  {
   "cell_type": "code",
   "execution_count": 11,
   "id": "ff147f2b",
   "metadata": {},
   "outputs": [
    {
     "data": {
      "text/plain": [
       "6"
      ]
     },
     "execution_count": 11,
     "metadata": {},
     "output_type": "execute_result"
    }
   ],
   "source": [
    "len(a_list)"
   ]
  },
  {
   "cell_type": "code",
   "execution_count": 12,
   "id": "f1e18696",
   "metadata": {},
   "outputs": [
    {
     "data": {
      "text/plain": [
       "0"
      ]
     },
     "execution_count": 12,
     "metadata": {},
     "output_type": "execute_result"
    }
   ],
   "source": [
    "len(empty_list)"
   ]
  },
  {
   "cell_type": "code",
   "execution_count": 13,
   "id": "18326b2b",
   "metadata": {},
   "outputs": [
    {
     "data": {
      "text/plain": [
       "'apple '"
      ]
     },
     "execution_count": 13,
     "metadata": {},
     "output_type": "execute_result"
    }
   ],
   "source": [
    "fruits[0]"
   ]
  },
  {
   "cell_type": "code",
   "execution_count": 14,
   "id": "ca06ea55",
   "metadata": {},
   "outputs": [
    {
     "data": {
      "text/plain": [
       "'cherry'"
      ]
     },
     "execution_count": 14,
     "metadata": {},
     "output_type": "execute_result"
    }
   ],
   "source": [
    "fruits[2]"
   ]
  },
  {
   "cell_type": "code",
   "execution_count": 15,
   "id": "1b33a05e",
   "metadata": {},
   "outputs": [
    {
     "data": {
      "text/plain": [
       "'banana'"
      ]
     },
     "execution_count": 15,
     "metadata": {},
     "output_type": "execute_result"
    }
   ],
   "source": [
    "fruits[1]"
   ]
  },
  {
   "cell_type": "code",
   "execution_count": 19,
   "id": "59700e76",
   "metadata": {},
   "outputs": [
    {
     "ename": "IndexError",
     "evalue": "list index out of range",
     "output_type": "error",
     "traceback": [
      "\u001b[1;31m---------------------------------------------------------------------------\u001b[0m",
      "\u001b[1;31mIndexError\u001b[0m                                Traceback (most recent call last)",
      "\u001b[1;32m~\\AppData\\Local\\Temp\\ipykernel_19080\\242072258.py\u001b[0m in \u001b[0;36m<module>\u001b[1;34m\u001b[0m\n\u001b[1;32m----> 1\u001b[1;33m \u001b[0mfruits\u001b[0m\u001b[1;33m[\u001b[0m\u001b[1;36m4\u001b[0m\u001b[1;33m]\u001b[0m\u001b[1;33m\u001b[0m\u001b[1;33m\u001b[0m\u001b[0m\n\u001b[0m",
      "\u001b[1;31mIndexError\u001b[0m: list index out of range"
     ]
    }
   ],
   "source": [
    "fruits[4]"
   ]
  },
  {
   "cell_type": "code",
   "execution_count": 20,
   "id": "7b232360",
   "metadata": {},
   "outputs": [
    {
     "data": {
      "text/plain": [
       "'cherry'"
      ]
     },
     "execution_count": 20,
     "metadata": {},
     "output_type": "execute_result"
    }
   ],
   "source": [
    "fruits[-1]"
   ]
  },
  {
   "cell_type": "code",
   "execution_count": 21,
   "id": "eb1dd5f3",
   "metadata": {},
   "outputs": [
    {
     "data": {
      "text/plain": [
       "'banana'"
      ]
     },
     "execution_count": 21,
     "metadata": {},
     "output_type": "execute_result"
    }
   ],
   "source": [
    "fruits[-2]"
   ]
  },
  {
   "cell_type": "code",
   "execution_count": 22,
   "id": "fe89f491",
   "metadata": {},
   "outputs": [
    {
     "data": {
      "text/plain": [
       "'apple '"
      ]
     },
     "execution_count": 22,
     "metadata": {},
     "output_type": "execute_result"
    }
   ],
   "source": [
    "fruits[-3]"
   ]
  },
  {
   "cell_type": "code",
   "execution_count": 23,
   "id": "de1b1f60",
   "metadata": {},
   "outputs": [
    {
     "data": {
      "text/plain": [
       "[None, 3.14, ['apple ', 'banana', 'cherry']]"
      ]
     },
     "execution_count": 23,
     "metadata": {},
     "output_type": "execute_result"
    }
   ],
   "source": [
    "a_list[2:5]"
   ]
  },
  {
   "cell_type": "code",
   "execution_count": 24,
   "id": "4a8b914b",
   "metadata": {},
   "outputs": [
    {
     "data": {
      "text/plain": [
       "['apple ', 'banana', 'cherry']"
      ]
     },
     "execution_count": 24,
     "metadata": {},
     "output_type": "execute_result"
    }
   ],
   "source": [
    "fruits"
   ]
  },
  {
   "cell_type": "code",
   "execution_count": 25,
   "id": "40935641",
   "metadata": {},
   "outputs": [],
   "source": [
    "fruits[1]= 'blakberry'"
   ]
  },
  {
   "cell_type": "code",
   "execution_count": 26,
   "id": "5872ebc5",
   "metadata": {},
   "outputs": [
    {
     "data": {
      "text/plain": [
       "['apple ', 'blakberry', 'cherry']"
      ]
     },
     "execution_count": 26,
     "metadata": {},
     "output_type": "execute_result"
    }
   ],
   "source": [
    "fruits"
   ]
  },
  {
   "cell_type": "code",
   "execution_count": 27,
   "id": "353401dd",
   "metadata": {},
   "outputs": [],
   "source": [
    "fruits.append(\"dates\")"
   ]
  },
  {
   "cell_type": "code",
   "execution_count": 28,
   "id": "117ed20e",
   "metadata": {},
   "outputs": [
    {
     "data": {
      "text/plain": [
       "['apple ', 'blakberry', 'cherry', 'dates']"
      ]
     },
     "execution_count": 28,
     "metadata": {},
     "output_type": "execute_result"
    }
   ],
   "source": [
    "fruits"
   ]
  },
  {
   "cell_type": "code",
   "execution_count": 28,
   "id": "178e4580",
   "metadata": {},
   "outputs": [],
   "source": [
    "fruits.insert(1,'banana')"
   ]
  },
  {
   "cell_type": "code",
   "execution_count": 29,
   "id": "d84e4058",
   "metadata": {},
   "outputs": [
    {
     "data": {
      "text/plain": [
       "['apple ', 'banana', 'blakberry', 'cherry', 'dates']"
      ]
     },
     "execution_count": 29,
     "metadata": {},
     "output_type": "execute_result"
    }
   ],
   "source": [
    "fruits"
   ]
  },
  {
   "cell_type": "code",
   "execution_count": 30,
   "id": "63aec3f9",
   "metadata": {},
   "outputs": [],
   "source": [
    "fruits.remove(\"blakberry\")"
   ]
  },
  {
   "cell_type": "code",
   "execution_count": 31,
   "id": "3372cd3a",
   "metadata": {},
   "outputs": [
    {
     "data": {
      "text/plain": [
       "['apple ', 'banana', 'cherry', 'dates']"
      ]
     },
     "execution_count": 31,
     "metadata": {},
     "output_type": "execute_result"
    }
   ],
   "source": [
    "fruits"
   ]
  },
  {
   "cell_type": "code",
   "execution_count": 32,
   "id": "ad200fd0",
   "metadata": {},
   "outputs": [
    {
     "data": {
      "text/plain": [
       "['apple ', 'banana', 'cherry', 'dates']"
      ]
     },
     "execution_count": 32,
     "metadata": {},
     "output_type": "execute_result"
    }
   ],
   "source": [
    "fruits"
   ]
  },
  {
   "cell_type": "code",
   "execution_count": 33,
   "id": "cbf33e2c",
   "metadata": {},
   "outputs": [
    {
     "data": {
      "text/plain": [
       "'banana'"
      ]
     },
     "execution_count": 33,
     "metadata": {},
     "output_type": "execute_result"
    }
   ],
   "source": [
    "fruits.pop(1)"
   ]
  },
  {
   "cell_type": "code",
   "execution_count": 34,
   "id": "6b812e02",
   "metadata": {},
   "outputs": [
    {
     "data": {
      "text/plain": [
       "['apple ', 'cherry', 'dates']"
      ]
     },
     "execution_count": 34,
     "metadata": {},
     "output_type": "execute_result"
    }
   ],
   "source": [
    "fruits"
   ]
  },
  {
   "cell_type": "code",
   "execution_count": 35,
   "id": "dabe7123",
   "metadata": {},
   "outputs": [
    {
     "data": {
      "text/plain": [
       "'dates'"
      ]
     },
     "execution_count": 35,
     "metadata": {},
     "output_type": "execute_result"
    }
   ],
   "source": [
    "fruits.pop()"
   ]
  },
  {
   "cell_type": "code",
   "execution_count": 36,
   "id": "2331b98b",
   "metadata": {},
   "outputs": [
    {
     "data": {
      "text/plain": [
       "['apple ', 'cherry']"
      ]
     },
     "execution_count": 36,
     "metadata": {},
     "output_type": "execute_result"
    }
   ],
   "source": [
    "fruits"
   ]
  },
  {
   "cell_type": "code",
   "execution_count": 37,
   "id": "38773399",
   "metadata": {},
   "outputs": [
    {
     "data": {
      "text/plain": [
       "False"
      ]
     },
     "execution_count": 37,
     "metadata": {},
     "output_type": "execute_result"
    }
   ],
   "source": [
    "'pineapple'in fruits"
   ]
  },
  {
   "cell_type": "code",
   "execution_count": 38,
   "id": "d7c030b6",
   "metadata": {},
   "outputs": [
    {
     "data": {
      "text/plain": [
       "True"
      ]
     },
     "execution_count": 38,
     "metadata": {},
     "output_type": "execute_result"
    }
   ],
   "source": [
    "'cherry'in fruits"
   ]
  },
  {
   "cell_type": "code",
   "execution_count": 39,
   "id": "21d27b61",
   "metadata": {},
   "outputs": [
    {
     "data": {
      "text/plain": [
       "['apple ', 'cherry']"
      ]
     },
     "execution_count": 39,
     "metadata": {},
     "output_type": "execute_result"
    }
   ],
   "source": [
    "fruits"
   ]
  },
  {
   "cell_type": "code",
   "execution_count": 40,
   "id": "304cd9f8",
   "metadata": {},
   "outputs": [],
   "source": [
    "more_fruits = fruits+['pineapple', 'tamato', 'guava']+['banana','pomigrant','grapsh']"
   ]
  },
  {
   "cell_type": "code",
   "execution_count": 41,
   "id": "9817804e",
   "metadata": {},
   "outputs": [
    {
     "data": {
      "text/plain": [
       "['apple ',\n",
       " 'cherry',\n",
       " 'pineapple',\n",
       " 'tamato',\n",
       " 'guava',\n",
       " 'banana',\n",
       " 'pomigrant',\n",
       " 'grapsh']"
      ]
     },
     "execution_count": 41,
     "metadata": {},
     "output_type": "execute_result"
    }
   ],
   "source": [
    "more_fruits"
   ]
  },
  {
   "cell_type": "code",
   "execution_count": 42,
   "id": "eed8673e",
   "metadata": {},
   "outputs": [],
   "source": [
    "more_fruits_copy = more_fruits.copy()"
   ]
  },
  {
   "cell_type": "code",
   "execution_count": 43,
   "id": "35c96e53",
   "metadata": {},
   "outputs": [
    {
     "data": {
      "text/plain": [
       "['apple ',\n",
       " 'cherry',\n",
       " 'pineapple',\n",
       " 'tamato',\n",
       " 'guava',\n",
       " 'banana',\n",
       " 'pomigrant',\n",
       " 'grapsh']"
      ]
     },
     "execution_count": 43,
     "metadata": {},
     "output_type": "execute_result"
    }
   ],
   "source": [
    "more_fruits_copy"
   ]
  },
  {
   "cell_type": "code",
   "execution_count": 44,
   "id": "7214ca15",
   "metadata": {},
   "outputs": [
    {
     "data": {
      "text/plain": [
       "['apple ', 'cherry', 'pineapple', 'tamato', 'banana', 'pomigrant']"
      ]
     },
     "execution_count": 44,
     "metadata": {},
     "output_type": "execute_result"
    }
   ],
   "source": [
    "#Modify the copy\n",
    "more_fruits_copy.remove('guava')\n",
    "more_fruits_copy.pop()\n",
    "more_fruits_copy"
   ]
  },
  {
   "cell_type": "code",
   "execution_count": 45,
   "id": "bf2b6d38",
   "metadata": {},
   "outputs": [
    {
     "data": {
      "text/plain": [
       "['apple ',\n",
       " 'cherry',\n",
       " 'pineapple',\n",
       " 'tamato',\n",
       " 'guava',\n",
       " 'banana',\n",
       " 'pomigrant',\n",
       " 'grapsh']"
      ]
     },
     "execution_count": 45,
     "metadata": {},
     "output_type": "execute_result"
    }
   ],
   "source": [
    "#Original list remains unchanged\n",
    "more_fruits"
   ]
  },
  {
   "cell_type": "code",
   "execution_count": 47,
   "id": "8b7ac804",
   "metadata": {},
   "outputs": [],
   "source": [
    "more_fruits_not_a_copy = more_fruits"
   ]
  },
  {
   "cell_type": "code",
   "execution_count": 48,
   "id": "acf95c4c",
   "metadata": {},
   "outputs": [
    {
     "data": {
      "text/plain": [
       "'grapsh'"
      ]
     },
     "execution_count": 48,
     "metadata": {},
     "output_type": "execute_result"
    }
   ],
   "source": [
    "more_fruits_not_a_copy.remove('tamato')\n",
    "more_fruits_not_a_copy.pop()"
   ]
  },
  {
   "cell_type": "code",
   "execution_count": 49,
   "id": "84c83b86",
   "metadata": {},
   "outputs": [
    {
     "data": {
      "text/plain": [
       "['apple ', 'cherry', 'pineapple', 'guava', 'banana', 'pomigrant']"
      ]
     },
     "execution_count": 49,
     "metadata": {},
     "output_type": "execute_result"
    }
   ],
   "source": [
    "more_fruits_not_a_copy"
   ]
  },
  {
   "cell_type": "code",
   "execution_count": 50,
   "id": "911e5b82",
   "metadata": {},
   "outputs": [
    {
     "data": {
      "text/plain": [
       "['apple ', 'cherry', 'pineapple', 'guava', 'banana', 'pomigrant']"
      ]
     },
     "execution_count": 50,
     "metadata": {},
     "output_type": "execute_result"
    }
   ],
   "source": [
    "more_fruits"
   ]
  },
  {
   "cell_type": "markdown",
   "id": "305843cd",
   "metadata": {},
   "source": [
    "# Tuple\n",
    "Atuple is ordered collection  of value, similar to a list , however it is  not possible to add ,remove or modify values in tuple."
   ]
  },
  {
   "cell_type": "code",
   "execution_count": 51,
   "id": "faa529b8",
   "metadata": {},
   "outputs": [],
   "source": [
    "fruits= ('apple', 'banana','pomigrant')"
   ]
  },
  {
   "cell_type": "code",
   "execution_count": 52,
   "id": "bb53ad78",
   "metadata": {},
   "outputs": [
    {
     "data": {
      "text/plain": [
       "3"
      ]
     },
     "execution_count": 52,
     "metadata": {},
     "output_type": "execute_result"
    }
   ],
   "source": [
    "#check no. elements\n",
    "len(fruits)"
   ]
  },
  {
   "cell_type": "code",
   "execution_count": 53,
   "id": "ca54c6b1",
   "metadata": {},
   "outputs": [
    {
     "data": {
      "text/plain": [
       "'apple'"
      ]
     },
     "execution_count": 53,
     "metadata": {},
     "output_type": "execute_result"
    }
   ],
   "source": [
    "#get element (Positive index)\n",
    "fruits[0]"
   ]
  },
  {
   "cell_type": "code",
   "execution_count": 54,
   "id": "1c5a35c7",
   "metadata": {},
   "outputs": [
    {
     "data": {
      "text/plain": [
       "'banana'"
      ]
     },
     "execution_count": 54,
     "metadata": {},
     "output_type": "execute_result"
    }
   ],
   "source": [
    "#get element (Positive index)\n",
    "fruits[-2]"
   ]
  },
  {
   "cell_type": "code",
   "execution_count": 55,
   "id": "bb5104aa",
   "metadata": {},
   "outputs": [
    {
     "data": {
      "text/plain": [
       "False"
      ]
     },
     "execution_count": 55,
     "metadata": {},
     "output_type": "execute_result"
    }
   ],
   "source": [
    "#check if it element(negative index)\n",
    "'dates' in fruits"
   ]
  },
  {
   "cell_type": "code",
   "execution_count": 29,
   "id": "f836421c",
   "metadata": {},
   "outputs": [],
   "source": [
    "#try to change an element\n",
    "fruits[0] = 'guava'"
   ]
  },
  {
   "cell_type": "code",
   "execution_count": 30,
   "id": "23e15217",
   "metadata": {},
   "outputs": [],
   "source": [
    "#try to append an element\n",
    "fruits.append('banana')"
   ]
  },
  {
   "cell_type": "code",
   "execution_count": 31,
   "id": "7bbfebfa",
   "metadata": {},
   "outputs": [
    {
     "ename": "ValueError",
     "evalue": "list.remove(x): x not in list",
     "output_type": "error",
     "traceback": [
      "\u001b[1;31m---------------------------------------------------------------------------\u001b[0m",
      "\u001b[1;31mValueError\u001b[0m                                Traceback (most recent call last)",
      "\u001b[1;32m~\\AppData\\Local\\Temp\\ipykernel_19080\\2172735404.py\u001b[0m in \u001b[0;36m<module>\u001b[1;34m\u001b[0m\n\u001b[0;32m      1\u001b[0m \u001b[1;31m#try to remove an element\u001b[0m\u001b[1;33m\u001b[0m\u001b[1;33m\u001b[0m\u001b[0m\n\u001b[1;32m----> 2\u001b[1;33m \u001b[0mfruits\u001b[0m\u001b[1;33m.\u001b[0m\u001b[0mremove\u001b[0m \u001b[1;33m(\u001b[0m\u001b[1;34m\"apple\"\u001b[0m\u001b[1;33m)\u001b[0m\u001b[1;33m\u001b[0m\u001b[1;33m\u001b[0m\u001b[0m\n\u001b[0m",
      "\u001b[1;31mValueError\u001b[0m: list.remove(x): x not in list"
     ]
    }
   ],
   "source": [
    "#try to remove an element\n",
    "fruits.remove (\"apple\")"
   ]
  },
  {
   "cell_type": "code",
   "execution_count": 59,
   "id": "b42b8baa",
   "metadata": {},
   "outputs": [],
   "source": [
    "the_3_maskiteers = 'athos','porthos','Armis'"
   ]
  },
  {
   "cell_type": "code",
   "execution_count": 60,
   "id": "6ae62f7f",
   "metadata": {},
   "outputs": [
    {
     "data": {
      "text/plain": [
       "('athos', 'porthos', 'Armis')"
      ]
     },
     "execution_count": 60,
     "metadata": {},
     "output_type": "execute_result"
    }
   ],
   "source": [
    "the_3_maskiteers"
   ]
  },
  {
   "cell_type": "code",
   "execution_count": 61,
   "id": "29fc7a03",
   "metadata": {},
   "outputs": [],
   "source": [
    "# , is mentatory for tuple creation\n",
    "single_element_tuple = 4,"
   ]
  },
  {
   "cell_type": "code",
   "execution_count": 62,
   "id": "ef353054",
   "metadata": {},
   "outputs": [
    {
     "data": {
      "text/plain": [
       "(4,)"
      ]
     },
     "execution_count": 62,
     "metadata": {},
     "output_type": "execute_result"
    }
   ],
   "source": [
    "single_element_tuple"
   ]
  },
  {
   "cell_type": "code",
   "execution_count": 64,
   "id": "2d7fcc1b",
   "metadata": {},
   "outputs": [],
   "source": [
    "anothe_single_element_tuple = 4,3,"
   ]
  },
  {
   "cell_type": "code",
   "execution_count": 65,
   "id": "1e0fc4cc",
   "metadata": {},
   "outputs": [
    {
     "data": {
      "text/plain": [
       "(4, 3)"
      ]
     },
     "execution_count": 65,
     "metadata": {},
     "output_type": "execute_result"
    }
   ],
   "source": [
    "anothe_single_element_tuple"
   ]
  },
  {
   "cell_type": "code",
   "execution_count": 67,
   "id": "a924108b",
   "metadata": {},
   "outputs": [],
   "source": [
    "not_a_tuple = (4)"
   ]
  },
  {
   "cell_type": "code",
   "execution_count": 68,
   "id": "e8939e2d",
   "metadata": {},
   "outputs": [
    {
     "data": {
      "text/plain": [
       "4"
      ]
     },
     "execution_count": 68,
     "metadata": {},
     "output_type": "execute_result"
    }
   ],
   "source": [
    "not_a_tuple"
   ]
  },
  {
   "cell_type": "code",
   "execution_count": 69,
   "id": "ca8308a6",
   "metadata": {},
   "outputs": [],
   "source": [
    "point = (3,4)"
   ]
  },
  {
   "cell_type": "code",
   "execution_count": 71,
   "id": "b6feda35",
   "metadata": {},
   "outputs": [],
   "source": [
    "point_x, point_y  = point"
   ]
  },
  {
   "cell_type": "code",
   "execution_count": 72,
   "id": "19d0705c",
   "metadata": {},
   "outputs": [
    {
     "data": {
      "text/plain": [
       "3"
      ]
     },
     "execution_count": 72,
     "metadata": {},
     "output_type": "execute_result"
    }
   ],
   "source": [
    "point_x"
   ]
  },
  {
   "cell_type": "code",
   "execution_count": 73,
   "id": "456244b5",
   "metadata": {},
   "outputs": [
    {
     "data": {
      "text/plain": [
       "4"
      ]
     },
     "execution_count": 73,
     "metadata": {},
     "output_type": "execute_result"
    }
   ],
   "source": [
    "point_y"
   ]
  },
  {
   "cell_type": "code",
   "execution_count": 74,
   "id": "443ae701",
   "metadata": {},
   "outputs": [
    {
     "data": {
      "text/plain": [
       "('one', 'two', 'three')"
      ]
     },
     "execution_count": 74,
     "metadata": {},
     "output_type": "execute_result"
    }
   ],
   "source": [
    "tuple(['one', 'two', 'three'])"
   ]
  },
  {
   "cell_type": "code",
   "execution_count": 75,
   "id": "e9ec38ee",
   "metadata": {},
   "outputs": [
    {
     "data": {
      "text/plain": [
       "['one', 'two', 'three']"
      ]
     },
     "execution_count": 75,
     "metadata": {},
     "output_type": "execute_result"
    }
   ],
   "source": [
    "list(('one', 'two', 'three'))"
   ]
  },
  {
   "cell_type": "code",
   "execution_count": 76,
   "id": "65ab1b41",
   "metadata": {},
   "outputs": [],
   "source": [
    "a_tuple = 23,\"hello\",False, None, 23, 37, \"hello\""
   ]
  },
  {
   "cell_type": "code",
   "execution_count": 77,
   "id": "1177b4d0",
   "metadata": {},
   "outputs": [
    {
     "name": "stdout",
     "output_type": "stream",
     "text": [
      "Help on built-in function count:\n",
      "\n",
      "count(value, /) method of builtins.tuple instance\n",
      "    Return number of occurrences of value.\n",
      "\n"
     ]
    }
   ],
   "source": [
    "help(a_tuple.count)"
   ]
  },
  {
   "cell_type": "code",
   "execution_count": null,
   "id": "8b502732",
   "metadata": {},
   "outputs": [],
   "source": [
    "# Dictionary\n",
    "A dictionary is an unorderd collection of itams."
   ]
  },
  {
   "cell_type": "code",
   "execution_count": 80,
   "id": "377d97b1",
   "metadata": {},
   "outputs": [],
   "source": [
    "person1 = {\n",
    "    'name':\" Saurabh\",\n",
    "    'sex': 'Male',\n",
    "    'age': 22,\n",
    "    'married':False\n",
    "}"
   ]
  },
  {
   "cell_type": "code",
   "execution_count": 81,
   "id": "a6a2ba8a",
   "metadata": {},
   "outputs": [
    {
     "data": {
      "text/plain": [
       "{'name': ' Saurabh', 'sex': 'Male', 'age': 22, 'married': False}"
      ]
     },
     "execution_count": 81,
     "metadata": {},
     "output_type": "execute_result"
    }
   ],
   "source": [
    "person1"
   ]
  },
  {
   "cell_type": "code",
   "execution_count": 97,
   "id": "4a98f12a",
   "metadata": {},
   "outputs": [],
   "source": [
    "person2 = dict ( name=\" Suman\",sex='Male' ,age= 32,\n",
    "                married=True)"
   ]
  },
  {
   "cell_type": "code",
   "execution_count": 98,
   "id": "072d8133",
   "metadata": {},
   "outputs": [
    {
     "data": {
      "text/plain": [
       "{'name': ' Suman', 'sex': 'Male', 'age': 32, 'married': True}"
      ]
     },
     "execution_count": 98,
     "metadata": {},
     "output_type": "execute_result"
    }
   ],
   "source": [
    "person2"
   ]
  },
  {
   "cell_type": "code",
   "execution_count": 99,
   "id": "241fffe6",
   "metadata": {},
   "outputs": [
    {
     "data": {
      "text/plain": [
       "dict"
      ]
     },
     "execution_count": 99,
     "metadata": {},
     "output_type": "execute_result"
    }
   ],
   "source": [
    "type(person2)"
   ]
  },
  {
   "cell_type": "code",
   "execution_count": 100,
   "id": "600e85da",
   "metadata": {},
   "outputs": [
    {
     "data": {
      "text/plain": [
       "' Saurabh'"
      ]
     },
     "execution_count": 100,
     "metadata": {},
     "output_type": "execute_result"
    }
   ],
   "source": [
    "person1['name']"
   ]
  },
  {
   "cell_type": "code",
   "execution_count": 101,
   "id": "b912befa",
   "metadata": {},
   "outputs": [
    {
     "data": {
      "text/plain": [
       "False"
      ]
     },
     "execution_count": 101,
     "metadata": {},
     "output_type": "execute_result"
    }
   ],
   "source": [
    "person1['married']"
   ]
  },
  {
   "cell_type": "code",
   "execution_count": 102,
   "id": "59bc1f1f",
   "metadata": {},
   "outputs": [
    {
     "data": {
      "text/plain": [
       "' Suman'"
      ]
     },
     "execution_count": 102,
     "metadata": {},
     "output_type": "execute_result"
    }
   ],
   "source": [
    "person2['name']"
   ]
  },
  {
   "cell_type": "code",
   "execution_count": 103,
   "id": "185d9d1f",
   "metadata": {},
   "outputs": [
    {
     "ename": "KeyError",
     "evalue": "'address'",
     "output_type": "error",
     "traceback": [
      "\u001b[1;31m---------------------------------------------------------------------------\u001b[0m",
      "\u001b[1;31mKeyError\u001b[0m                                  Traceback (most recent call last)",
      "\u001b[1;32m~\\AppData\\Local\\Temp\\ipykernel_5156\\786906807.py\u001b[0m in \u001b[0;36m<module>\u001b[1;34m\u001b[0m\n\u001b[1;32m----> 1\u001b[1;33m \u001b[0mperson1\u001b[0m\u001b[1;33m[\u001b[0m\u001b[1;34m'address'\u001b[0m\u001b[1;33m]\u001b[0m\u001b[1;33m\u001b[0m\u001b[1;33m\u001b[0m\u001b[0m\n\u001b[0m",
      "\u001b[1;31mKeyError\u001b[0m: 'address'"
     ]
    }
   ],
   "source": [
    "person1['address']"
   ]
  },
  {
   "cell_type": "code",
   "execution_count": 104,
   "id": "eef1f9b5",
   "metadata": {},
   "outputs": [
    {
     "data": {
      "text/plain": [
       "' Suman'"
      ]
     },
     "execution_count": 104,
     "metadata": {},
     "output_type": "execute_result"
    }
   ],
   "source": [
    "person2.get(\"name\")"
   ]
  },
  {
   "cell_type": "code",
   "execution_count": 105,
   "id": "167f09e8",
   "metadata": {},
   "outputs": [
    {
     "data": {
      "text/plain": [
       "'unknown'"
      ]
     },
     "execution_count": 105,
     "metadata": {},
     "output_type": "execute_result"
    }
   ],
   "source": [
    "person2.get('address',\"unknown\")"
   ]
  },
  {
   "cell_type": "code",
   "execution_count": 106,
   "id": "6a88d325",
   "metadata": {},
   "outputs": [
    {
     "data": {
      "text/plain": [
       "True"
      ]
     },
     "execution_count": 106,
     "metadata": {},
     "output_type": "execute_result"
    }
   ],
   "source": [
    "'name'in person1"
   ]
  },
  {
   "cell_type": "code",
   "execution_count": 107,
   "id": "aa99a3e4",
   "metadata": {},
   "outputs": [
    {
     "data": {
      "text/plain": [
       "False"
      ]
     },
     "execution_count": 107,
     "metadata": {},
     "output_type": "execute_result"
    }
   ],
   "source": [
    "'address'in person1"
   ]
  },
  {
   "cell_type": "code",
   "execution_count": 109,
   "id": "b1fed488",
   "metadata": {},
   "outputs": [
    {
     "data": {
      "text/plain": [
       "True"
      ]
     },
     "execution_count": 109,
     "metadata": {},
     "output_type": "execute_result"
    }
   ],
   "source": [
    "person2['married']"
   ]
  },
  {
   "cell_type": "code",
   "execution_count": 110,
   "id": "a27c4b3b",
   "metadata": {},
   "outputs": [],
   "source": [
    "person2['married']=True"
   ]
  },
  {
   "cell_type": "code",
   "execution_count": 111,
   "id": "d740f464",
   "metadata": {},
   "outputs": [
    {
     "data": {
      "text/plain": [
       "True"
      ]
     },
     "execution_count": 111,
     "metadata": {},
     "output_type": "execute_result"
    }
   ],
   "source": [
    "person2['married']"
   ]
  },
  {
   "cell_type": "code",
   "execution_count": 112,
   "id": "cb7fa2b7",
   "metadata": {},
   "outputs": [
    {
     "data": {
      "text/plain": [
       "{'name': ' Saurabh', 'sex': 'Male', 'age': 22, 'married': False}"
      ]
     },
     "execution_count": 112,
     "metadata": {},
     "output_type": "execute_result"
    }
   ],
   "source": [
    "person1"
   ]
  },
  {
   "cell_type": "code",
   "execution_count": 115,
   "id": "09f026ec",
   "metadata": {},
   "outputs": [],
   "source": [
    "person1 ['address']='1, Bhopal'"
   ]
  },
  {
   "cell_type": "code",
   "execution_count": 116,
   "id": "bf396878",
   "metadata": {},
   "outputs": [
    {
     "data": {
      "text/plain": [
       "{'name': ' Saurabh',\n",
       " 'sex': 'Male',\n",
       " 'age': 22,\n",
       " 'married': False,\n",
       " 'address': '1, Bhopal'}"
      ]
     },
     "execution_count": 116,
     "metadata": {},
     "output_type": "execute_result"
    }
   ],
   "source": [
    "person1"
   ]
  },
  {
   "cell_type": "code",
   "execution_count": 117,
   "id": "d23ae548",
   "metadata": {},
   "outputs": [
    {
     "data": {
      "text/plain": [
       "'1, Bhopal'"
      ]
     },
     "execution_count": 117,
     "metadata": {},
     "output_type": "execute_result"
    }
   ],
   "source": [
    "person1.pop('address')"
   ]
  },
  {
   "cell_type": "code",
   "execution_count": 118,
   "id": "c9ee834a",
   "metadata": {},
   "outputs": [
    {
     "data": {
      "text/plain": [
       "{'name': ' Saurabh', 'sex': 'Male', 'age': 22, 'married': False}"
      ]
     },
     "execution_count": 118,
     "metadata": {},
     "output_type": "execute_result"
    }
   ],
   "source": [
    "person1"
   ]
  },
  {
   "cell_type": "code",
   "execution_count": 119,
   "id": "44e76bde",
   "metadata": {},
   "outputs": [
    {
     "data": {
      "text/plain": [
       "dict_keys(['name', 'sex', 'age', 'married'])"
      ]
     },
     "execution_count": 119,
     "metadata": {},
     "output_type": "execute_result"
    }
   ],
   "source": [
    "person1.keys()"
   ]
  },
  {
   "cell_type": "code",
   "execution_count": 121,
   "id": "f45eebf0",
   "metadata": {},
   "outputs": [
    {
     "data": {
      "text/plain": [
       "dict_values([' Saurabh', 'Male', 22, False])"
      ]
     },
     "execution_count": 121,
     "metadata": {},
     "output_type": "execute_result"
    }
   ],
   "source": [
    "person1.values()"
   ]
  },
  {
   "cell_type": "code",
   "execution_count": 122,
   "id": "fe03b101",
   "metadata": {},
   "outputs": [
    {
     "data": {
      "text/plain": [
       "dict_items([('name', ' Saurabh'), ('sex', 'Male'), ('age', 22), ('married', False)])"
      ]
     },
     "execution_count": 122,
     "metadata": {},
     "output_type": "execute_result"
    }
   ],
   "source": [
    "person1.items()"
   ]
  },
  {
   "cell_type": "code",
   "execution_count": 123,
   "id": "8e0693b8",
   "metadata": {},
   "outputs": [
    {
     "ename": "AttributeError",
     "evalue": "'dict' object has no attribute 'itams'",
     "output_type": "error",
     "traceback": [
      "\u001b[1;31m---------------------------------------------------------------------------\u001b[0m",
      "\u001b[1;31mAttributeError\u001b[0m                            Traceback (most recent call last)",
      "\u001b[1;32m~\\AppData\\Local\\Temp\\ipykernel_5156\\2000364430.py\u001b[0m in \u001b[0;36m<module>\u001b[1;34m\u001b[0m\n\u001b[1;32m----> 1\u001b[1;33m \u001b[0mperson1\u001b[0m\u001b[1;33m.\u001b[0m\u001b[0mitams\u001b[0m\u001b[1;33m(\u001b[0m\u001b[1;33m)\u001b[0m\u001b[1;33m[\u001b[0m\u001b[1;36m1\u001b[0m\u001b[1;33m]\u001b[0m\u001b[1;33m\u001b[0m\u001b[1;33m\u001b[0m\u001b[0m\n\u001b[0m",
      "\u001b[1;31mAttributeError\u001b[0m: 'dict' object has no attribute 'itams'"
     ]
    }
   ],
   "source": [
    "person1.itams()[1]"
   ]
  },
  {
   "cell_type": "markdown",
   "id": "a4b23a37",
   "metadata": {},
   "source": [
    "### The 'if' statement\n",
    "In Python, branching is done using 'if'statment, which is written as follows:'''''\n",
    "if condition: \n",
    "statment1\n",
    "statment2\n",
    ",,,,,\n",
    "The 'condition can either be a variable or an expression. if the condition evaluate 'True'then the statment within ther *'if'block* are excecuted."
   ]
  },
  {
   "cell_type": "code",
   "execution_count": 136,
   "id": "8712889d",
   "metadata": {},
   "outputs": [],
   "source": [
    "a_number = 32"
   ]
  },
  {
   "cell_type": "code",
   "execution_count": 137,
   "id": "47f6ca7c",
   "metadata": {},
   "outputs": [
    {
     "name": "stdout",
     "output_type": "stream",
     "text": [
      "we're inside an if block \n",
      "The given number 32 is even.\n"
     ]
    }
   ],
   "source": [
    "if a_number % 2 == 0:\n",
    "    print(\"we're inside an if block \")\n",
    "    print(\"The given number {} is even.\".format(a_number))\n",
    "    "
   ]
  },
  {
   "cell_type": "code",
   "execution_count": null,
   "id": "1619fe51",
   "metadata": {},
   "outputs": [],
   "source": [
    "a_number = 33"
   ]
  },
  {
   "cell_type": "code",
   "execution_count": 139,
   "id": "7893ea37",
   "metadata": {},
   "outputs": [
    {
     "name": "stdout",
     "output_type": "stream",
     "text": [
      "The given number 32 is even.\n",
      "outside the if block\n"
     ]
    }
   ],
   "source": [
    "if a_number % 2 == 0:\n",
    "    print(\"The given number {} is even.\".format(a_number))\n",
    "    \n",
    "print(\"outside the if block\")\n"
   ]
  },
  {
   "cell_type": "code",
   "execution_count": 147,
   "id": "70330e0f",
   "metadata": {},
   "outputs": [],
   "source": [
    "a_number = 34"
   ]
  },
  {
   "cell_type": "code",
   "execution_count": 148,
   "id": "3dfe38d2",
   "metadata": {},
   "outputs": [
    {
     "name": "stdout",
     "output_type": "stream",
     "text": [
      "The given number 34 is even.\n"
     ]
    }
   ],
   "source": [
    "if a_number % 2 == 0:\n",
    "    print(\"The given number {} is even.\".format(a_number))\n",
    "else:\n",
    "    print('the given number {}is odd.'.format(a_number))"
   ]
  },
  {
   "cell_type": "code",
   "execution_count": 152,
   "id": "b78cac48",
   "metadata": {},
   "outputs": [],
   "source": [
    "another_number = 33"
   ]
  },
  {
   "cell_type": "code",
   "execution_count": 154,
   "id": "48a8e5e0",
   "metadata": {},
   "outputs": [
    {
     "name": "stdout",
     "output_type": "stream",
     "text": [
      "the given number 33is odd.\n"
     ]
    }
   ],
   "source": [
    "if another_number % 2 == 0:\n",
    "    print(\"The given number {} is even.\".format(another_number))\n",
    "else:\n",
    "    print('the given number {}is odd.'.format(another_number))"
   ]
  },
  {
   "cell_type": "code",
   "execution_count": 155,
   "id": "3a2ea60f",
   "metadata": {},
   "outputs": [],
   "source": [
    "the_3_maskiteers = ('athos','porthos','Armis')"
   ]
  },
  {
   "cell_type": "code",
   "execution_count": 164,
   "id": "a232a69e",
   "metadata": {},
   "outputs": [],
   "source": [
    "a_candidate = \"athos\""
   ]
  },
  {
   "cell_type": "code",
   "execution_count": 165,
   "id": "fe119152",
   "metadata": {},
   "outputs": [
    {
     "name": "stdout",
     "output_type": "stream",
     "text": [
      "is a musketeer is even.\n"
     ]
    }
   ],
   "source": [
    "if a_candidate in the_3_maskiteers:\n",
    "    print(\"is a musketeer is even.\".format(a_candidate))\n",
    "else:\n",
    "    print(' {} is not a musketeer odd.'.format(a_candidate))"
   ]
  },
  {
   "cell_type": "code",
   "execution_count": 173,
   "id": "a7f20996",
   "metadata": {},
   "outputs": [],
   "source": [
    "today = 'satarday'"
   ]
  },
  {
   "cell_type": "code",
   "execution_count": 174,
   "id": "44e375ce",
   "metadata": {},
   "outputs": [
    {
     "name": "stdout",
     "output_type": "stream",
     "text": [
      "Today is least days\n"
     ]
    }
   ],
   "source": [
    "if today == 'sunday':\n",
    "    print('Today is holidays')\n",
    "elif today == 'Monday':\n",
    "    print(\"Today is working days\")\n",
    "elif today == 'Tusday':\n",
    "    print(\"Today is hanuman days\")\n",
    "elif today == 'wednesday':\n",
    "    print(\"Today is mid days\")\n",
    "elif today == 'thrusday':\n",
    "    print(\"Today is yellow days\")\n",
    "elif today == 'Friday':\n",
    "    print(\"Today is jumma  days\")\n",
    "elif today == 'satarday':\n",
    "    print(\"Today is least days\")\n",
    "                                                "
   ]
  },
  {
   "cell_type": "code",
   "execution_count": 180,
   "id": "c8742831",
   "metadata": {},
   "outputs": [],
   "source": [
    "a_number = 33"
   ]
  },
  {
   "cell_type": "code",
   "execution_count": 181,
   "id": "9184286d",
   "metadata": {},
   "outputs": [
    {
     "name": "stdout",
     "output_type": "stream",
     "text": [
      " 33 is divsible by 3.\n"
     ]
    }
   ],
   "source": [
    "if a_number % 2 == 0:\n",
    "    print(\" {} is divsible by 2.\".format(a_number))\n",
    "elif a_number  % 3 == 0 :\n",
    "    print(' {} is divsible by 3.'.format(a_number))\n",
    "elif a_number  % 4 == 0 :\n",
    "    print(' {} is divsible by 4.'.format(a_number))\n",
    "elif a_number  % 5 == 0 :\n",
    "    print(' {} is divsible by 5.'.format(a_number))"
   ]
  },
  {
   "cell_type": "code",
   "execution_count": 182,
   "id": "9b4af146",
   "metadata": {},
   "outputs": [
    {
     "name": "stdout",
     "output_type": "stream",
     "text": [
      " 33 is divsible by 3.\n"
     ]
    }
   ],
   "source": [
    "if a_number % 2 == 0:\n",
    "    print(\" {} is divsible by 2.\".format(a_number))\n",
    "if a_number  % 3 == 0 :\n",
    "    print(' {} is divsible by 3.'.format(a_number))\n",
    "if a_number  % 7 == 0 :\n",
    "    print(' {} is divsible by 7.'.format(a_number))\n",
    "if a_number  % 5 == 0 :\n",
    "    print(' {} is divsible by 5.'.format(a_number))\n",
    "    "
   ]
  },
  {
   "cell_type": "code",
   "execution_count": 184,
   "id": "975ac7d5",
   "metadata": {},
   "outputs": [
    {
     "name": "stdout",
     "output_type": "stream",
     "text": [
      "condition failed\n",
      "is not divsible by 2,3,4,5\n"
     ]
    }
   ],
   "source": [
    "if a_number % 2 == 0:\n",
    "    print(\" {} is divsible by 2.\".format(a_number))\n",
    "elif a_number  % 6 == 0 :\n",
    "    print(' {} is divsible by 3.'.format(a_number))\n",
    "elif a_number  % 4 == 0 :\n",
    "    print(' {} is divsible by 4.'.format(a_number))\n",
    "elif a_number  % 5 == 0 :\n",
    "    print(' {} is divsible by 5.'.format(a_number))\n",
    "else: \n",
    "    print('condition failed')\n",
    "    print ('is not divsible by 2,3,4,5'.format(a_number))"
   ]
  },
  {
   "cell_type": "code",
   "execution_count": 186,
   "id": "34349523",
   "metadata": {},
   "outputs": [],
   "source": [
    "a_number = 12"
   ]
  },
  {
   "cell_type": "code",
   "execution_count": 188,
   "id": "e329f852",
   "metadata": {},
   "outputs": [
    {
     "name": "stdout",
     "output_type": "stream",
     "text": [
      " 12 is not divsible by 5.\n"
     ]
    }
   ],
   "source": [
    "if a_number % 3 == 0 and a_number % 5 == 0:\n",
    "    print(\" {} is divsible by 3 and 5.\".format(a_number))\n",
    "elif not a_number  % 5 == 0 :\n",
    "    print(' {} is not divsible by 5.'.format(a_number))"
   ]
  },
  {
   "cell_type": "code",
   "execution_count": null,
   "id": "c84aa484",
   "metadata": {},
   "outputs": [],
   "source": []
  }
 ],
 "metadata": {
  "kernelspec": {
   "display_name": "Python 3 (ipykernel)",
   "language": "python",
   "name": "python3"
  },
  "language_info": {
   "codemirror_mode": {
    "name": "ipython",
    "version": 3
   },
   "file_extension": ".py",
   "mimetype": "text/x-python",
   "name": "python",
   "nbconvert_exporter": "python",
   "pygments_lexer": "ipython3",
   "version": "3.9.13"
  }
 },
 "nbformat": 4,
 "nbformat_minor": 5
}
