{
 "cells": [
  {
   "cell_type": "markdown",
   "id": "0db79910",
   "metadata": {},
   "source": [
    "# Create and Using Function\n",
    "A function is a reusable set of instructions. A function takes one or more input, performs certain operation , and often returns an output."
   ]
  },
  {
   "cell_type": "code",
   "execution_count": 1,
   "id": "44b62663",
   "metadata": {},
   "outputs": [
    {
     "name": "stdout",
     "output_type": "stream",
     "text": [
      "today is  monday\n"
     ]
    }
   ],
   "source": [
    "today = ' monday'\n",
    "print('today is', today)"
   ]
  },
  {
   "cell_type": "code",
   "execution_count": 2,
   "id": "a95aa479",
   "metadata": {},
   "outputs": [],
   "source": [
    "def say_hello():\n",
    "    print('hello there')\n",
    "    print ('how are you?')"
   ]
  },
  {
   "cell_type": "code",
   "execution_count": 3,
   "id": "9b1930de",
   "metadata": {},
   "outputs": [
    {
     "name": "stdout",
     "output_type": "stream",
     "text": [
      "hello there\n",
      "how are you?\n"
     ]
    }
   ],
   "source": [
    "say_hello()"
   ]
  },
  {
   "cell_type": "code",
   "execution_count": 4,
   "id": "0417bfbb",
   "metadata": {},
   "outputs": [],
   "source": [
    "def filter_even(number_list):\n",
    "    result_list=[]\n",
    "    for number in number_list:\n",
    "        if number % 2 == 0:\n",
    "            result_list.append(number)\n",
    "        return result_list"
   ]
  },
  {
   "cell_type": "code",
   "execution_count": 5,
   "id": "b94da358",
   "metadata": {},
   "outputs": [],
   "source": [
    "even_list = filter_even ([1,2,4,5,6,7])"
   ]
  },
  {
   "cell_type": "code",
   "execution_count": 6,
   "id": "e567643f",
   "metadata": {},
   "outputs": [
    {
     "data": {
      "text/plain": [
       "[]"
      ]
     },
     "execution_count": 6,
     "metadata": {},
     "output_type": "execute_result"
    }
   ],
   "source": [
    "even_list"
   ]
  },
  {
   "cell_type": "code",
   "execution_count": 7,
   "id": "7579b735",
   "metadata": {},
   "outputs": [],
   "source": [
    "number_list = [1,2,3,4,5,6,7]"
   ]
  },
  {
   "cell_type": "code",
   "execution_count": 8,
   "id": "6d9fda99",
   "metadata": {},
   "outputs": [],
   "source": [
    "  result_list=[]"
   ]
  },
  {
   "cell_type": "code",
   "execution_count": 9,
   "id": "beb591a3",
   "metadata": {},
   "outputs": [
    {
     "name": "stdout",
     "output_type": "stream",
     "text": [
      "number 1\n",
      "number 2\n",
      "number is even , adding to list\n",
      "number 3\n",
      "number 4\n",
      "number is even , adding to list\n",
      "number 5\n",
      "number 6\n",
      "number is even , adding to list\n",
      "number 7\n"
     ]
    }
   ],
   "source": [
    " for number in number_list:\n",
    "        print ('number', number)\n",
    "        if number % 2 == 0:\n",
    "            print ('number is even , adding to list')\n",
    "            result_list.append(number)"
   ]
  },
  {
   "cell_type": "markdown",
   "id": "0eb77ffa",
   "metadata": {},
   "source": [
    "## writing great function in python\n"
   ]
  },
  {
   "cell_type": "code",
   "execution_count": 10,
   "id": "dad0468e",
   "metadata": {},
   "outputs": [],
   "source": [
    " def loan_emi (amount):\n",
    "        emi = amount/12\n",
    "        print('the EMI is ${}'.format(emi))"
   ]
  },
  {
   "cell_type": "code",
   "execution_count": 11,
   "id": "25719cab",
   "metadata": {},
   "outputs": [
    {
     "name": "stdout",
     "output_type": "stream",
     "text": [
      "the EMI is $10250.0\n"
     ]
    }
   ],
   "source": [
    "loan_emi(123000)"
   ]
  },
  {
   "cell_type": "code",
   "execution_count": 12,
   "id": "79780041",
   "metadata": {},
   "outputs": [],
   "source": [
    " def loan_emi (amount,duration):\n",
    "        emi = amount/duration\n",
    "        print('the EMI is $ {}'.format(emi))"
   ]
  },
  {
   "cell_type": "code",
   "execution_count": 13,
   "id": "751bd2c9",
   "metadata": {},
   "outputs": [
    {
     "ename": "NameError",
     "evalue": "name 'emi' is not defined",
     "output_type": "error",
     "traceback": [
      "\u001b[1;31m---------------------------------------------------------------------------\u001b[0m",
      "\u001b[1;31mNameError\u001b[0m                                 Traceback (most recent call last)",
      "\u001b[1;32m~\\AppData\\Local\\Temp\\ipykernel_14836\\1358411353.py\u001b[0m in \u001b[0;36m<module>\u001b[1;34m\u001b[0m\n\u001b[1;32m----> 1\u001b[1;33m \u001b[0memi\u001b[0m\u001b[1;33m\u001b[0m\u001b[1;33m\u001b[0m\u001b[0m\n\u001b[0m",
      "\u001b[1;31mNameError\u001b[0m: name 'emi' is not defined"
     ]
    }
   ],
   "source": [
    "emi"
   ]
  },
  {
   "cell_type": "code",
   "execution_count": 14,
   "id": "7b09df45",
   "metadata": {},
   "outputs": [
    {
     "name": "stdout",
     "output_type": "stream",
     "text": [
      "the EMI is $ 1281.25\n"
     ]
    }
   ],
   "source": [
    "loan_emi(123000,8*12)"
   ]
  },
  {
   "cell_type": "code",
   "execution_count": 15,
   "id": "5af3ccf4",
   "metadata": {},
   "outputs": [
    {
     "name": "stdout",
     "output_type": "stream",
     "text": [
      "the EMI is $ 1025.0\n"
     ]
    }
   ],
   "source": [
    "loan_emi(123000,10*12)"
   ]
  },
  {
   "cell_type": "code",
   "execution_count": 16,
   "id": "ea85ba67",
   "metadata": {},
   "outputs": [],
   "source": [
    " def loan_emi (amount,duration):\n",
    "        emi = amount/duration\n",
    "        return emi"
   ]
  },
  {
   "cell_type": "code",
   "execution_count": 17,
   "id": "f562d2ad",
   "metadata": {},
   "outputs": [],
   "source": [
    "emi1 = loan_emi(123000,8*12)"
   ]
  },
  {
   "cell_type": "code",
   "execution_count": 18,
   "id": "d85f7121",
   "metadata": {},
   "outputs": [],
   "source": [
    "emi2 = loan_emi(123000,10*12)"
   ]
  },
  {
   "cell_type": "code",
   "execution_count": 19,
   "id": "8bcea712",
   "metadata": {},
   "outputs": [
    {
     "data": {
      "text/plain": [
       "1281.25"
      ]
     },
     "execution_count": 19,
     "metadata": {},
     "output_type": "execute_result"
    }
   ],
   "source": [
    "emi1"
   ]
  },
  {
   "cell_type": "code",
   "execution_count": 20,
   "id": "c8edf9bf",
   "metadata": {},
   "outputs": [
    {
     "data": {
      "text/plain": [
       "1025.0"
      ]
     },
     "execution_count": 20,
     "metadata": {},
     "output_type": "execute_result"
    }
   ],
   "source": [
    "emi2"
   ]
  },
  {
   "cell_type": "markdown",
   "id": "5f0a5cce",
   "metadata": {},
   "source": [
    "## Operational arguments"
   ]
  },
  {
   "cell_type": "code",
   "execution_count": 21,
   "id": "cacc67f5",
   "metadata": {},
   "outputs": [],
   "source": [
    " def loan_emi (amount,duration,down_payment=0):\n",
    "        loan_amount = amount- down_payment\n",
    "        emi = loan_amount/ duration\n",
    "        return emi"
   ]
  },
  {
   "cell_type": "code",
   "execution_count": 22,
   "id": "e60978fa",
   "metadata": {},
   "outputs": [],
   "source": [
    "emi1 = loan_emi(123000,8*12,3e5)"
   ]
  },
  {
   "cell_type": "code",
   "execution_count": 23,
   "id": "431a1c4c",
   "metadata": {},
   "outputs": [
    {
     "data": {
      "text/plain": [
       "-1843.75"
      ]
     },
     "execution_count": 23,
     "metadata": {},
     "output_type": "execute_result"
    }
   ],
   "source": [
    "emi1"
   ]
  },
  {
   "cell_type": "code",
   "execution_count": 24,
   "id": "ba09a0a4",
   "metadata": {},
   "outputs": [],
   "source": [
    "emi2 = loan_emi(123000,10*12)"
   ]
  },
  {
   "cell_type": "code",
   "execution_count": 25,
   "id": "1cba57b6",
   "metadata": {},
   "outputs": [
    {
     "data": {
      "text/plain": [
       "1025.0"
      ]
     },
     "execution_count": 25,
     "metadata": {},
     "output_type": "execute_result"
    }
   ],
   "source": [
    "emi2"
   ]
  },
  {
   "cell_type": "code",
   "execution_count": 26,
   "id": "a385d903",
   "metadata": {},
   "outputs": [],
   "source": [
    " def loan_emi (amount,duration,rate,down_payment=0):\n",
    "        loan_amount = amount- down_payment\n",
    "        emi = loan_amount*rate*((1+rate)**duration)/(((1+rate)**duration)-1)\n",
    "        return emi "
   ]
  },
  {
   "cell_type": "code",
   "execution_count": 27,
   "id": "fa6e9993",
   "metadata": {},
   "outputs": [],
   "source": [
    "emi1 = loan_emi(1000,8*12,0.1/12,3e5)"
   ]
  },
  {
   "cell_type": "code",
   "execution_count": 28,
   "id": "90bce259",
   "metadata": {},
   "outputs": [
    {
     "data": {
      "text/plain": [
       "-4537.075065243505"
      ]
     },
     "execution_count": 28,
     "metadata": {},
     "output_type": "execute_result"
    }
   ],
   "source": [
    "emi1"
   ]
  },
  {
   "cell_type": "code",
   "execution_count": 29,
   "id": "5f55c128",
   "metadata": {},
   "outputs": [
    {
     "data": {
      "text/plain": [
       "1504.462170006436"
      ]
     },
     "execution_count": 29,
     "metadata": {},
     "output_type": "execute_result"
    }
   ],
   "source": [
    "loan_emi(124000,10*12,0.08/12)"
   ]
  },
  {
   "cell_type": "markdown",
   "id": "6a7abca6",
   "metadata": {},
   "source": [
    "## Named arguments"
   ]
  },
  {
   "cell_type": "code",
   "execution_count": 30,
   "id": "aeeeb364",
   "metadata": {},
   "outputs": [],
   "source": [
    "emi1 = loan_emi(\n",
    "amount =123000,\n",
    "duration = 8*12,\n",
    "rate=0.1/12,\n",
    "down_payment= 3e5\n",
    ")"
   ]
  },
  {
   "cell_type": "code",
   "execution_count": 31,
   "id": "e912b44a",
   "metadata": {},
   "outputs": [
    {
     "data": {
      "text/plain": [
       "-2685.827045311373"
      ]
     },
     "execution_count": 31,
     "metadata": {},
     "output_type": "execute_result"
    }
   ],
   "source": [
    "emi1"
   ]
  },
  {
   "cell_type": "code",
   "execution_count": 32,
   "id": "ff7be164",
   "metadata": {},
   "outputs": [],
   "source": [
    "emi2 = loan_emi(amount=123000,duration=10*12,rate=0.08/12)"
   ]
  },
  {
   "cell_type": "code",
   "execution_count": 33,
   "id": "98955117",
   "metadata": {},
   "outputs": [
    {
     "data": {
      "text/plain": [
       "1492.3294105709"
      ]
     },
     "execution_count": 33,
     "metadata": {},
     "output_type": "execute_result"
    }
   ],
   "source": [
    "emi2"
   ]
  },
  {
   "cell_type": "markdown",
   "id": "29392b53",
   "metadata": {},
   "source": [
    "# Modules and library function"
   ]
  },
  {
   "cell_type": "code",
   "execution_count": 34,
   "id": "0ab79d80",
   "metadata": {},
   "outputs": [],
   "source": [
    "import math"
   ]
  },
  {
   "cell_type": "code",
   "execution_count": 35,
   "id": "7a352091",
   "metadata": {},
   "outputs": [
    {
     "name": "stdout",
     "output_type": "stream",
     "text": [
      "Help on built-in function ceil in module math:\n",
      "\n",
      "ceil(x, /)\n",
      "    Return the ceiling of x as an Integral.\n",
      "    \n",
      "    This is the smallest integer >= x.\n",
      "\n"
     ]
    }
   ],
   "source": [
    "help(math.ceil)"
   ]
  },
  {
   "cell_type": "code",
   "execution_count": 36,
   "id": "41697976",
   "metadata": {},
   "outputs": [
    {
     "data": {
      "text/plain": [
       "2"
      ]
     },
     "execution_count": 36,
     "metadata": {},
     "output_type": "execute_result"
    }
   ],
   "source": [
    "math.ceil(1.2)"
   ]
  },
  {
   "cell_type": "code",
   "execution_count": 37,
   "id": "03819342",
   "metadata": {},
   "outputs": [],
   "source": [
    " def loan_emi (amount,duration,rate,down_payment=0):\n",
    "        loan_amount = amount- down_payment\n",
    "        emi = loan_amount*rate*((1+rate)**duration)/(((1+rate)**duration)-1)\n",
    "        emi = math.ceil(emi)\n",
    "        return emi "
   ]
  },
  {
   "cell_type": "code",
   "execution_count": 38,
   "id": "618c04ca",
   "metadata": {},
   "outputs": [],
   "source": [
    "emi2 = loan_emi(amount=123000,duration=10*12,rate=0.08/12)"
   ]
  },
  {
   "cell_type": "code",
   "execution_count": 39,
   "id": "6ce5263f",
   "metadata": {},
   "outputs": [
    {
     "data": {
      "text/plain": [
       "1493"
      ]
     },
     "execution_count": 39,
     "metadata": {},
     "output_type": "execute_result"
    }
   ],
   "source": [
    "emi2"
   ]
  },
  {
   "cell_type": "code",
   "execution_count": 40,
   "id": "83884795",
   "metadata": {},
   "outputs": [],
   "source": [
    "emi1 = loan_emi(\n",
    "amount =12000,\n",
    "duration = 8*12,\n",
    "rate=0.01/12,\n",
    "down_payment= 3e5\n",
    ")"
   ]
  },
  {
   "cell_type": "code",
   "execution_count": 41,
   "id": "f6093152",
   "metadata": {},
   "outputs": [
    {
     "data": {
      "text/plain": [
       "-3122"
      ]
     },
     "execution_count": 41,
     "metadata": {},
     "output_type": "execute_result"
    }
   ],
   "source": [
    "emi1"
   ]
  },
  {
   "cell_type": "code",
   "execution_count": 42,
   "id": "88b6d09d",
   "metadata": {},
   "outputs": [
    {
     "name": "stdout",
     "output_type": "stream",
     "text": [
      "option 1 has the lower emi $ -3122\n"
     ]
    }
   ],
   "source": [
    "if emi1<emi2:\n",
    "    print('option 1 has the lower emi $ {}'.format(emi1))\n",
    "else:\n",
    "      print('option 2 has the lower emi $ {}'.format(emi2))"
   ]
  },
  {
   "cell_type": "code",
   "execution_count": 43,
   "id": "745d56fd",
   "metadata": {},
   "outputs": [
    {
     "data": {
      "text/plain": [
       "10230"
      ]
     },
     "execution_count": 43,
     "metadata": {},
     "output_type": "execute_result"
    }
   ],
   "source": [
    "cost_of_house = 800000\n",
    "home_loan_duration = 6*12 #monthly\n",
    "home_loan_rate = 0.07/12 #monthly\n",
    "home_down_payment = .25*800000\n",
    "emi_house = loan_emi(amount= cost_of_house,\n",
    "                    duration = home_loan_duration,\n",
    "                    rate = home_loan_rate,\n",
    "                    down_payment = home_down_payment)\n",
    "emi_house"
   ]
  },
  {
   "cell_type": "code",
   "execution_count": 44,
   "id": "bc279ab6",
   "metadata": {},
   "outputs": [
    {
     "name": "stdout",
     "output_type": "stream",
     "text": [
      "53310\n"
     ]
    }
   ],
   "source": [
    "cost_of_car = 600000\n",
    "car_loan_duration = 1*12 #monthly\n",
    "car_loan_rate = .12/12 #monthly\n",
    "\n",
    "emi_car = loan_emi(amount= cost_of_car,\n",
    "                    duration = car_loan_duration,\n",
    "                    rate = car_loan_rate)\n",
    "                  \n",
    "print (emi_car)"
   ]
  },
  {
   "cell_type": "code",
   "execution_count": 45,
   "id": "c0001b16",
   "metadata": {},
   "outputs": [
    {
     "name": "stdout",
     "output_type": "stream",
     "text": [
      "shaun makes a total monthly payment of $ 63540\n"
     ]
    }
   ],
   "source": [
    "print('shaun makes a total monthly payment of $ {}'.format(emi_house+emi_car))"
   ]
  },
  {
   "cell_type": "code",
   "execution_count": 46,
   "id": "3d0b17da",
   "metadata": {},
   "outputs": [
    {
     "data": {
      "text/plain": [
       "1267"
      ]
     },
     "execution_count": 46,
     "metadata": {},
     "output_type": "execute_result"
    }
   ],
   "source": [
    "emi_with_interest = loan_emi ( amount = 100000, duration = 10*12, rate = 0.09/12)\n",
    "emi_with_interest"
   ]
  },
  {
   "cell_type": "code",
   "execution_count": 47,
   "id": "dc9f136e",
   "metadata": {},
   "outputs": [
    {
     "name": "stdout",
     "output_type": "stream",
     "text": [
      "Now computing the result...\n",
      "Failed to compute the result because you were trying to divide by zero\n",
      "None\n"
     ]
    }
   ],
   "source": [
    "try:\n",
    "    print(\"Now computing the result...\")\n",
    "    result = 5 / 0\n",
    "    print(\"Computing was completing successfully\")\n",
    "except ZeroDivisionError:\n",
    "    print('Failed to compute the result because you were trying to divide by zero')\n",
    "    result = None\n",
    "\n",
    "print(result)\n",
    "\n"
   ]
  },
  {
   "cell_type": "code",
   "execution_count": 48,
   "id": "cbf508c0",
   "metadata": {},
   "outputs": [
    {
     "name": "stdout",
     "output_type": "stream",
     "text": [
      "834\n"
     ]
    }
   ],
   "source": [
    "import math\n",
    "\n",
    "def loan_emi(amount, duration, rate, down_payment=0):\n",
    "    loan_amount = amount - down_payment\n",
    "    try:\n",
    "        if rate == 0:\n",
    "            emi = loan_amount / duration  # Simple calculation for zero interest\n",
    "        else:\n",
    "            emi = loan_amount * rate * ((1 + rate) ** duration) / (((1 + rate) ** duration) - 1)\n",
    "        emi = math.ceil(emi)  # Round up the EMI value to the nearest integer\n",
    "    except ZeroDivisionError:\n",
    "        emi = loan_amount / duration  # Handle case when rate is 0\n",
    "    return emi\n",
    "\n",
    "# Example usage:\n",
    "emi_without_interest = loan_emi(amount=100000, duration=10*12, rate=0)\n",
    "print(emi_without_interest)\n",
    " "
   ]
  },
  {
   "cell_type": "code",
   "execution_count": 49,
   "id": "3811fc85",
   "metadata": {},
   "outputs": [
    {
     "ename": "IndentationError",
     "evalue": "unexpected indent (2484958024.py, line 2)",
     "output_type": "error",
     "traceback": [
      "\u001b[1;36m  File \u001b[1;32m\"C:\\Users\\saura\\AppData\\Local\\Temp\\ipykernel_14836\\2484958024.py\"\u001b[1;36m, line \u001b[1;32m2\u001b[0m\n\u001b[1;33m    emi_without_interest\u001b[0m\n\u001b[1;37m    ^\u001b[0m\n\u001b[1;31mIndentationError\u001b[0m\u001b[1;31m:\u001b[0m unexpected indent\n"
     ]
    }
   ],
   "source": [
    "emi_without_interest = loan_emi ( amount = 100000, duration = 10*12, rate = 0)\n",
    " emi_without_interest"
   ]
  },
  {
   "cell_type": "code",
   "execution_count": 50,
   "id": "3a0a5343",
   "metadata": {},
   "outputs": [],
   "source": [
    "total_interest = (emi_with_interest - emi_without_interest) * 10*12"
   ]
  },
  {
   "cell_type": "code",
   "execution_count": null,
   "id": "5b1ab990",
   "metadata": {},
   "outputs": [],
   "source": []
  }
 ],
 "metadata": {
  "kernelspec": {
   "display_name": "Python 3 (ipykernel)",
   "language": "python",
   "name": "python3"
  },
  "language_info": {
   "codemirror_mode": {
    "name": "ipython",
    "version": 3
   },
   "file_extension": ".py",
   "mimetype": "text/x-python",
   "name": "python",
   "nbconvert_exporter": "python",
   "pygments_lexer": "ipython3",
   "version": "3.9.13"
  }
 },
 "nbformat": 4,
 "nbformat_minor": 5
}
