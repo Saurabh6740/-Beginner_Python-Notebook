{
 "cells": [
  {
   "cell_type": "markdown",
   "id": "4cfb4214",
   "metadata": {},
   "source": [
    "## Going from list to Numpy arrays\n"
   ]
  },
  {
   "cell_type": "code",
   "execution_count": 1,
   "id": "b03723bb",
   "metadata": {},
   "outputs": [],
   "source": [
    "w1,w2,w3 = 0.3,0.2,0.5"
   ]
  },
  {
   "cell_type": "code",
   "execution_count": 2,
   "id": "f3bf997a",
   "metadata": {},
   "outputs": [],
   "source": [
    "kanto_temp = 78\n",
    "kanto_rainfall = 56\n",
    "kanto_humidity = 34"
   ]
  },
  {
   "cell_type": "code",
   "execution_count": 3,
   "id": "afde90a5",
   "metadata": {},
   "outputs": [
    {
     "data": {
      "text/plain": [
       "51.6"
      ]
     },
     "execution_count": 3,
     "metadata": {},
     "output_type": "execute_result"
    }
   ],
   "source": [
    "kanto_yield_apples = kanto_temp*w1+kanto_rainfall*w2+kanto_humidity*w3\n",
    "kanto_yield_apples"
   ]
  },
  {
   "cell_type": "code",
   "execution_count": 4,
   "id": "f51c9913",
   "metadata": {},
   "outputs": [
    {
     "name": "stdout",
     "output_type": "stream",
     "text": [
      "The expected yield of apple in kanto is{} tons 51.6\n"
     ]
    }
   ],
   "source": [
    "print(\"The expected yield of apple in kanto is{} tons\",kanto_yield_apples)"
   ]
  },
  {
   "cell_type": "code",
   "execution_count": 5,
   "id": "c5f8c8ad",
   "metadata": {},
   "outputs": [],
   "source": [
    "kanto = [78,56,34]\n",
    "niraj = [90,88,23]\n",
    "sonu = [89,343, 45]\n",
    "kajal = [67,78,45]\n"
   ]
  },
  {
   "cell_type": "code",
   "execution_count": 6,
   "id": "a3163c2d",
   "metadata": {},
   "outputs": [],
   "source": [
    "weights = [w1,w2,w3]"
   ]
  },
  {
   "cell_type": "code",
   "execution_count": 7,
   "id": "1a435311",
   "metadata": {},
   "outputs": [
    {
     "name": "stdout",
     "output_type": "stream",
     "text": [
      "(78, 0.3)\n",
      "(56, 0.2)\n",
      "(34, 0.5)\n"
     ]
    }
   ],
   "source": [
    "for itam in zip(kanto, weights):\n",
    "    print(itam)"
   ]
  },
  {
   "cell_type": "code",
   "execution_count": 8,
   "id": "db9615e9",
   "metadata": {},
   "outputs": [],
   "source": [
    "def crop_yield(region, weights):\n",
    "    result = 0\n",
    "    for x,w in zip (region, weights):\n",
    "        result += x*w\n",
    "        return result"
   ]
  },
  {
   "cell_type": "code",
   "execution_count": 9,
   "id": "06bc3f90",
   "metadata": {},
   "outputs": [
    {
     "data": {
      "text/plain": [
       "23.4"
      ]
     },
     "execution_count": 9,
     "metadata": {},
     "output_type": "execute_result"
    }
   ],
   "source": [
    " crop_yield(kanto, weights)"
   ]
  },
  {
   "cell_type": "code",
   "execution_count": 10,
   "id": "7b3fe36c",
   "metadata": {},
   "outputs": [
    {
     "data": {
      "text/plain": [
       "27.0"
      ]
     },
     "execution_count": 10,
     "metadata": {},
     "output_type": "execute_result"
    }
   ],
   "source": [
    " crop_yield(niraj, weights)"
   ]
  },
  {
   "cell_type": "code",
   "execution_count": 11,
   "id": "b301a0cb",
   "metadata": {},
   "outputs": [
    {
     "data": {
      "text/plain": [
       "26.7"
      ]
     },
     "execution_count": 11,
     "metadata": {},
     "output_type": "execute_result"
    }
   ],
   "source": [
    " crop_yield(sonu, weights)"
   ]
  },
  {
   "cell_type": "code",
   "execution_count": 12,
   "id": "b371f16b",
   "metadata": {},
   "outputs": [
    {
     "data": {
      "text/plain": [
       "20.099999999999998"
      ]
     },
     "execution_count": 12,
     "metadata": {},
     "output_type": "execute_result"
    }
   ],
   "source": [
    " crop_yield(kajal, weights)"
   ]
  },
  {
   "cell_type": "code",
   "execution_count": 13,
   "id": "cd590537",
   "metadata": {},
   "outputs": [],
   "source": [
    "import numpy as np"
   ]
  },
  {
   "cell_type": "code",
   "execution_count": 14,
   "id": "7ac22b91",
   "metadata": {},
   "outputs": [],
   "source": [
    "kanto = np.array([78,56,34])"
   ]
  },
  {
   "cell_type": "code",
   "execution_count": 15,
   "id": "b3842d82",
   "metadata": {},
   "outputs": [
    {
     "data": {
      "text/plain": [
       "array([78, 56, 34])"
      ]
     },
     "execution_count": 15,
     "metadata": {},
     "output_type": "execute_result"
    }
   ],
   "source": [
    "kanto"
   ]
  },
  {
   "cell_type": "code",
   "execution_count": 16,
   "id": "f9da549c",
   "metadata": {},
   "outputs": [],
   "source": [
    "weights = np.array([w1,w2,w3])"
   ]
  },
  {
   "cell_type": "code",
   "execution_count": 17,
   "id": "0fa3623e",
   "metadata": {},
   "outputs": [
    {
     "data": {
      "text/plain": [
       "array([0.3, 0.2, 0.5])"
      ]
     },
     "execution_count": 17,
     "metadata": {},
     "output_type": "execute_result"
    }
   ],
   "source": [
    "weights"
   ]
  },
  {
   "cell_type": "code",
   "execution_count": 18,
   "id": "3fcfcdb9",
   "metadata": {},
   "outputs": [
    {
     "data": {
      "text/plain": [
       "numpy.ndarray"
      ]
     },
     "execution_count": 18,
     "metadata": {},
     "output_type": "execute_result"
    }
   ],
   "source": [
    "type(kanto)"
   ]
  },
  {
   "cell_type": "code",
   "execution_count": 19,
   "id": "d1cb1cb6",
   "metadata": {},
   "outputs": [
    {
     "data": {
      "text/plain": [
       "numpy.ndarray"
      ]
     },
     "execution_count": 19,
     "metadata": {},
     "output_type": "execute_result"
    }
   ],
   "source": [
    "type(weights)"
   ]
  },
  {
   "cell_type": "code",
   "execution_count": 20,
   "id": "118c6fcd",
   "metadata": {},
   "outputs": [
    {
     "data": {
      "text/plain": [
       "0.3"
      ]
     },
     "execution_count": 20,
     "metadata": {},
     "output_type": "execute_result"
    }
   ],
   "source": [
    "weights[0]"
   ]
  },
  {
   "cell_type": "code",
   "execution_count": 21,
   "id": "62c1b4ca",
   "metadata": {},
   "outputs": [
    {
     "data": {
      "text/plain": [
       "34"
      ]
     },
     "execution_count": 21,
     "metadata": {},
     "output_type": "execute_result"
    }
   ],
   "source": [
    "kanto[2]"
   ]
  },
  {
   "cell_type": "markdown",
   "id": "b99b4bf1",
   "metadata": {},
   "source": [
    "# Operation on Numpy arrays\n",
    "We can now compute the dot product of the two vectors using the np.dot function"
   ]
  },
  {
   "cell_type": "code",
   "execution_count": 22,
   "id": "a75db746",
   "metadata": {},
   "outputs": [
    {
     "data": {
      "text/plain": [
       "51.6"
      ]
     },
     "execution_count": 22,
     "metadata": {},
     "output_type": "execute_result"
    }
   ],
   "source": [
    "np.dot(kanto,weights)"
   ]
  },
  {
   "cell_type": "code",
   "execution_count": 23,
   "id": "29d1cf10",
   "metadata": {},
   "outputs": [
    {
     "data": {
      "text/plain": [
       "51.6"
      ]
     },
     "execution_count": 23,
     "metadata": {},
     "output_type": "execute_result"
    }
   ],
   "source": [
    "(kanto*weights).sum()"
   ]
  },
  {
   "cell_type": "code",
   "execution_count": 24,
   "id": "711effdb",
   "metadata": {},
   "outputs": [],
   "source": [
    "arr1 = np.array([1,2,34,4])\n",
    "arr2 = np.array([4,5,6,7])"
   ]
  },
  {
   "cell_type": "code",
   "execution_count": 25,
   "id": "d7dcc0c7",
   "metadata": {},
   "outputs": [
    {
     "data": {
      "text/plain": [
       "array([  4,  10, 204,  28])"
      ]
     },
     "execution_count": 25,
     "metadata": {},
     "output_type": "execute_result"
    }
   ],
   "source": [
    "arr1*arr2"
   ]
  },
  {
   "cell_type": "code",
   "execution_count": 26,
   "id": "885231ae",
   "metadata": {},
   "outputs": [
    {
     "data": {
      "text/plain": [
       "22"
      ]
     },
     "execution_count": 26,
     "metadata": {},
     "output_type": "execute_result"
    }
   ],
   "source": [
    "arr2.sum()"
   ]
  },
  {
   "cell_type": "markdown",
   "id": "f3dea8d5",
   "metadata": {},
   "source": [
    "## Benefits of usin /Numpy arrays\n",
    "\n",
    "**. Ease of use:**, You can write.....\n",
    "\n",
    "**. performancer:**,crop yild"
   ]
  },
  {
   "cell_type": "code",
   "execution_count": 27,
   "id": "e7df1e48",
   "metadata": {},
   "outputs": [],
   "source": [
    "arr1 = list(range(10000))\n",
    "arr2 = list(range(10000,20000))\n",
    "#numpy arrays \n",
    "arr1_np = np.array(arr1)\n",
    "arr2_np = np.array(arr2)"
   ]
  },
  {
   "cell_type": "code",
   "execution_count": 28,
   "id": "e20ee4aa",
   "metadata": {},
   "outputs": [
    {
     "name": "stdout",
     "output_type": "stream",
     "text": [
      "Wall time: 0 ns\n"
     ]
    }
   ],
   "source": [
    "%%time\n",
    "result = 0 \n",
    "for x1, x2 in zip (arr1,arr2):\n",
    "    result += x1*x2\n",
    "    result"
   ]
  },
  {
   "cell_type": "code",
   "execution_count": 29,
   "id": "5b44bae6",
   "metadata": {},
   "outputs": [
    {
     "name": "stdout",
     "output_type": "stream",
     "text": [
      "Wall time: 3.55 ms\n"
     ]
    },
    {
     "data": {
      "text/plain": [
       "9679576"
      ]
     },
     "execution_count": 29,
     "metadata": {},
     "output_type": "execute_result"
    }
   ],
   "source": [
    "%%time\n",
    "np.dot (arr1_np, arr2_np)"
   ]
  },
  {
   "cell_type": "markdown",
   "id": "7a83b0ae",
   "metadata": {},
   "source": [
    "## Multi-dimension Numpy arrays"
   ]
  },
  {
   "cell_type": "code",
   "execution_count": 30,
   "id": "1b5c3264",
   "metadata": {},
   "outputs": [],
   "source": [
    "climate_data = np.array([[78,56,45],\n",
    "                        [90,88,65],\n",
    "                        [87,145,23],\n",
    "                        [110,43,56]])"
   ]
  },
  {
   "cell_type": "code",
   "execution_count": 31,
   "id": "f62d1f04",
   "metadata": {},
   "outputs": [
    {
     "data": {
      "text/plain": [
       "array([[ 78,  56,  45],\n",
       "       [ 90,  88,  65],\n",
       "       [ 87, 145,  23],\n",
       "       [110,  43,  56]])"
      ]
     },
     "execution_count": 31,
     "metadata": {},
     "output_type": "execute_result"
    }
   ],
   "source": [
    "climate_data"
   ]
  },
  {
   "cell_type": "code",
   "execution_count": 32,
   "id": "746f1b22",
   "metadata": {},
   "outputs": [
    {
     "data": {
      "text/plain": [
       "(4, 3)"
      ]
     },
     "execution_count": 32,
     "metadata": {},
     "output_type": "execute_result"
    }
   ],
   "source": [
    "#2D arryas(matrix)\n",
    "climate_data.shape"
   ]
  },
  {
   "cell_type": "code",
   "execution_count": 33,
   "id": "ead099cc",
   "metadata": {},
   "outputs": [
    {
     "data": {
      "text/plain": [
       "array([0.3, 0.2, 0.5])"
      ]
     },
     "execution_count": 33,
     "metadata": {},
     "output_type": "execute_result"
    }
   ],
   "source": [
    "weights"
   ]
  },
  {
   "cell_type": "code",
   "execution_count": 34,
   "id": "9e79138d",
   "metadata": {},
   "outputs": [
    {
     "data": {
      "text/plain": [
       "(3,)"
      ]
     },
     "execution_count": 34,
     "metadata": {},
     "output_type": "execute_result"
    }
   ],
   "source": [
    "weights.shape"
   ]
  },
  {
   "cell_type": "code",
   "execution_count": 35,
   "id": "6708c229",
   "metadata": {},
   "outputs": [],
   "source": [
    "arr3 = np.array ([\n",
    "    [[11,23,34],\n",
    "    [13,14,15]],\n",
    "                \n",
    "   [[45,34,21],\n",
    "    [16,73,19.5]]])"
   ]
  },
  {
   "cell_type": "code",
   "execution_count": 36,
   "id": "96d74dba",
   "metadata": {},
   "outputs": [
    {
     "data": {
      "text/plain": [
       "(2, 2, 3)"
      ]
     },
     "execution_count": 36,
     "metadata": {},
     "output_type": "execute_result"
    }
   ],
   "source": [
    "arr3.shape"
   ]
  },
  {
   "cell_type": "code",
   "execution_count": 37,
   "id": "b3715a87",
   "metadata": {},
   "outputs": [
    {
     "data": {
      "text/plain": [
       "array([0.3, 0.2, 0.5])"
      ]
     },
     "execution_count": 37,
     "metadata": {},
     "output_type": "execute_result"
    }
   ],
   "source": [
    "weights"
   ]
  },
  {
   "cell_type": "code",
   "execution_count": 38,
   "id": "17b8fae8",
   "metadata": {},
   "outputs": [
    {
     "data": {
      "text/plain": [
       "dtype('float64')"
      ]
     },
     "execution_count": 38,
     "metadata": {},
     "output_type": "execute_result"
    }
   ],
   "source": [
    "weights.dtype"
   ]
  },
  {
   "cell_type": "code",
   "execution_count": 39,
   "id": "924853c7",
   "metadata": {},
   "outputs": [
    {
     "data": {
      "text/plain": [
       "dtype('int32')"
      ]
     },
     "execution_count": 39,
     "metadata": {},
     "output_type": "execute_result"
    }
   ],
   "source": [
    "climate_data.dtype"
   ]
  },
  {
   "cell_type": "code",
   "execution_count": 40,
   "id": "18f87ba7",
   "metadata": {},
   "outputs": [],
   "source": [
    "arr3 = np.array ([\n",
    "    [[11,23,34],\n",
    "    [13,14,15]],\n",
    "                \n",
    "   [[45,34,21],\n",
    "    [16,73,19.5]]])"
   ]
  },
  {
   "cell_type": "code",
   "execution_count": 41,
   "id": "56b659e5",
   "metadata": {},
   "outputs": [
    {
     "data": {
      "text/plain": [
       "dtype('float64')"
      ]
     },
     "execution_count": 41,
     "metadata": {},
     "output_type": "execute_result"
    }
   ],
   "source": [
    "arr3.dtype"
   ]
  },
  {
   "cell_type": "code",
   "execution_count": 42,
   "id": "a2b9a912",
   "metadata": {},
   "outputs": [
    {
     "data": {
      "text/plain": [
       "array([[[11. , 23. , 34. ],\n",
       "        [13. , 14. , 15. ]],\n",
       "\n",
       "       [[45. , 34. , 21. ],\n",
       "        [16. , 73. , 19.5]]])"
      ]
     },
     "execution_count": 42,
     "metadata": {},
     "output_type": "execute_result"
    }
   ],
   "source": [
    "arr3"
   ]
  },
  {
   "cell_type": "code",
   "execution_count": 43,
   "id": "d3b0dd97",
   "metadata": {},
   "outputs": [
    {
     "data": {
      "text/plain": [
       "array([[ 78,  56,  45],\n",
       "       [ 90,  88,  65],\n",
       "       [ 87, 145,  23],\n",
       "       [110,  43,  56]])"
      ]
     },
     "execution_count": 43,
     "metadata": {},
     "output_type": "execute_result"
    }
   ],
   "source": [
    "climate_data"
   ]
  },
  {
   "cell_type": "code",
   "execution_count": 44,
   "id": "c57addb4",
   "metadata": {},
   "outputs": [
    {
     "data": {
      "text/plain": [
       "array([57.1, 77.1, 66.6, 69.6])"
      ]
     },
     "execution_count": 44,
     "metadata": {},
     "output_type": "execute_result"
    }
   ],
   "source": [
    "np.matmul(climate_data,weights)"
   ]
  },
  {
   "cell_type": "code",
   "execution_count": 45,
   "id": "88f73156",
   "metadata": {},
   "outputs": [
    {
     "data": {
      "text/plain": [
       "array([57.1, 77.1, 66.6, 69.6])"
      ]
     },
     "execution_count": 45,
     "metadata": {},
     "output_type": "execute_result"
    }
   ],
   "source": [
    "climate_data @ weights"
   ]
  },
  {
   "cell_type": "markdown",
   "id": "fcb349a5",
   "metadata": {},
   "source": [
    "## Working with CSV data files\n",
    "Numpy aklso provide helper function reading from & writting file"
   ]
  },
  {
   "cell_type": "code",
   "execution_count": 46,
   "id": "a7e49ba0",
   "metadata": {},
   "outputs": [
    {
     "data": {
      "text/plain": [
       "array([[ 78,  56,  45],\n",
       "       [ 90,  88,  65],\n",
       "       [ 87, 145,  23],\n",
       "       [110,  43,  56]])"
      ]
     },
     "execution_count": 46,
     "metadata": {},
     "output_type": "execute_result"
    }
   ],
   "source": [
    "climate_data"
   ]
  },
  {
   "cell_type": "code",
   "execution_count": 47,
   "id": "5e355c79",
   "metadata": {},
   "outputs": [
    {
     "data": {
      "text/plain": [
       "(4, 3)"
      ]
     },
     "execution_count": 47,
     "metadata": {},
     "output_type": "execute_result"
    }
   ],
   "source": [
    "climate_data.shape"
   ]
  },
  {
   "cell_type": "code",
   "execution_count": 48,
   "id": "3c4e3f4b",
   "metadata": {},
   "outputs": [],
   "source": [
    "weight = np.array([0.3,0.4,0.2])"
   ]
  },
  {
   "cell_type": "code",
   "execution_count": 49,
   "id": "862810c8",
   "metadata": {},
   "outputs": [],
   "source": [
    "yields =climate_data @ weights"
   ]
  },
  {
   "cell_type": "code",
   "execution_count": 50,
   "id": "d3851e26",
   "metadata": {},
   "outputs": [
    {
     "data": {
      "text/plain": [
       "array([57.1, 77.1, 66.6, 69.6])"
      ]
     },
     "execution_count": 50,
     "metadata": {},
     "output_type": "execute_result"
    }
   ],
   "source": [
    "yields"
   ]
  },
  {
   "cell_type": "code",
   "execution_count": 51,
   "id": "58021c75",
   "metadata": {},
   "outputs": [
    {
     "data": {
      "text/plain": [
       "(4,)"
      ]
     },
     "execution_count": 51,
     "metadata": {},
     "output_type": "execute_result"
    }
   ],
   "source": [
    "yields.shape"
   ]
  },
  {
   "cell_type": "code",
   "execution_count": 52,
   "id": "5c8674c4",
   "metadata": {},
   "outputs": [],
   "source": [
    "climate_results = np.concatenate((climate_data,yields.reshape(4,1)),axis=1)"
   ]
  },
  {
   "cell_type": "code",
   "execution_count": 53,
   "id": "ec08147e",
   "metadata": {},
   "outputs": [
    {
     "data": {
      "text/plain": [
       "array([[ 78. ,  56. ,  45. ,  57.1],\n",
       "       [ 90. ,  88. ,  65. ,  77.1],\n",
       "       [ 87. , 145. ,  23. ,  66.6],\n",
       "       [110. ,  43. ,  56. ,  69.6]])"
      ]
     },
     "execution_count": 53,
     "metadata": {},
     "output_type": "execute_result"
    }
   ],
   "source": [
    "climate_results"
   ]
  },
  {
   "cell_type": "code",
   "execution_count": 54,
   "id": "699fa958",
   "metadata": {},
   "outputs": [],
   "source": [
    "np.savetxt('climate_results.txt',\n",
    "          climate_results,fmt ='%.2f',\n",
    "          header = 'temperature,rainfall,humidity,yeild_apples,',\n",
    "          comments = '')"
   ]
  },
  {
   "cell_type": "markdown",
   "id": "4f207e0a",
   "metadata": {},
   "source": [
    "## Other ways of  creating Numpy arrays"
   ]
  },
  {
   "cell_type": "code",
   "execution_count": 55,
   "id": "590dd31c",
   "metadata": {},
   "outputs": [
    {
     "data": {
      "text/plain": [
       "array([[0., 0.],\n",
       "       [0., 0.],\n",
       "       [0., 0.]])"
      ]
     },
     "execution_count": 55,
     "metadata": {},
     "output_type": "execute_result"
    }
   ],
   "source": [
    "#All Zeros\n",
    "np.zeros((3,2))"
   ]
  },
  {
   "cell_type": "code",
   "execution_count": 56,
   "id": "b106c933",
   "metadata": {},
   "outputs": [
    {
     "data": {
      "text/plain": [
       "array([[1., 0., 0.],\n",
       "       [0., 1., 0.],\n",
       "       [0., 0., 1.]])"
      ]
     },
     "execution_count": 56,
     "metadata": {},
     "output_type": "execute_result"
    }
   ],
   "source": [
    "#all ones\n",
    "np.eye(3)"
   ]
  },
  {
   "cell_type": "code",
   "execution_count": 57,
   "id": "2d00a9f7",
   "metadata": {},
   "outputs": [
    {
     "data": {
      "text/plain": [
       "array([0.56638309, 0.27113083, 0.73171386, 0.54946561, 0.46112304])"
      ]
     },
     "execution_count": 57,
     "metadata": {},
     "output_type": "execute_result"
    }
   ],
   "source": [
    "#Random vector\n",
    "np.random.rand(5)"
   ]
  },
  {
   "cell_type": "code",
   "execution_count": 58,
   "id": "90de70ff",
   "metadata": {},
   "outputs": [
    {
     "data": {
      "text/plain": [
       "array([[0.61548524, 0.77919191, 0.53166059],\n",
       "       [0.26415867, 0.39882949, 0.17172092]])"
      ]
     },
     "execution_count": 58,
     "metadata": {},
     "output_type": "execute_result"
    }
   ],
   "source": [
    "#Random matrix\n",
    "np.random.rand(2,3)"
   ]
  },
  {
   "cell_type": "code",
   "execution_count": 59,
   "id": "aee34d55",
   "metadata": {},
   "outputs": [
    {
     "data": {
      "text/plain": [
       "array([[42, 42, 42],\n",
       "       [42, 42, 42]])"
      ]
     },
     "execution_count": 59,
     "metadata": {},
     "output_type": "execute_result"
    }
   ],
   "source": [
    "#fixed value\n",
    "np.full([2,3],42)"
   ]
  },
  {
   "cell_type": "code",
   "execution_count": 60,
   "id": "005db7ee",
   "metadata": {},
   "outputs": [
    {
     "data": {
      "text/plain": [
       "(27,)"
      ]
     },
     "execution_count": 60,
     "metadata": {},
     "output_type": "execute_result"
    }
   ],
   "source": [
    "#Range with start end and step\n",
    "np.arange(10,90,3).shape"
   ]
  },
  {
   "cell_type": "code",
   "execution_count": 61,
   "id": "543290bf",
   "metadata": {},
   "outputs": [
    {
     "data": {
      "text/plain": [
       "array([ 3. ,  5.5,  8. , 10.5, 13. , 15.5, 18. , 20.5, 23. ])"
      ]
     },
     "execution_count": 61,
     "metadata": {},
     "output_type": "execute_result"
    }
   ],
   "source": [
    "# Equal space number is range\n",
    "np.linspace(3,23,9)"
   ]
  },
  {
   "cell_type": "code",
   "execution_count": 62,
   "id": "a89e7da4",
   "metadata": {},
   "outputs": [
    {
     "data": {
      "text/plain": [
       "array([[[10, 13, 16],\n",
       "        [19, 22, 25],\n",
       "        [28, 31, 34]],\n",
       "\n",
       "       [[37, 40, 43],\n",
       "        [46, 49, 52],\n",
       "        [55, 58, 61]],\n",
       "\n",
       "       [[64, 67, 70],\n",
       "        [73, 76, 79],\n",
       "        [82, 85, 88]]])"
      ]
     },
     "execution_count": 62,
     "metadata": {},
     "output_type": "execute_result"
    }
   ],
   "source": [
    "np.arange(10,90,3).reshape(3,3,3)"
   ]
  },
  {
   "cell_type": "code",
   "execution_count": null,
   "id": "02888d1f",
   "metadata": {},
   "outputs": [],
   "source": []
  },
  {
   "cell_type": "code",
   "execution_count": null,
   "id": "a9cfed24",
   "metadata": {},
   "outputs": [],
   "source": []
  },
  {
   "cell_type": "code",
   "execution_count": null,
   "id": "fb532243",
   "metadata": {},
   "outputs": [],
   "source": []
  }
 ],
 "metadata": {
  "kernelspec": {
   "display_name": "Python 3 (ipykernel)",
   "language": "python",
   "name": "python3"
  },
  "language_info": {
   "codemirror_mode": {
    "name": "ipython",
    "version": 3
   },
   "file_extension": ".py",
   "mimetype": "text/x-python",
   "name": "python",
   "nbconvert_exporter": "python",
   "pygments_lexer": "ipython3",
   "version": "3.9.13"
  }
 },
 "nbformat": 4,
 "nbformat_minor": 5
}
